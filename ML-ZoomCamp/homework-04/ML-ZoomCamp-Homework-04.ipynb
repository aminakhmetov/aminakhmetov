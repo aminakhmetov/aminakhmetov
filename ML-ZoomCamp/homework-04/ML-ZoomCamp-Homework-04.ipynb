{
 "cells": [
  {
   "cell_type": "markdown",
   "id": "0cd92dd0",
   "metadata": {},
   "source": [
    "# This is homework of forth week."
   ]
  },
  {
   "cell_type": "code",
   "execution_count": 1,
   "id": "feaa3ca7",
   "metadata": {},
   "outputs": [],
   "source": [
    "import numpy as np\n",
    "import pandas as pd\n",
    "import matplotlib.pyplot as plt\n",
    "import seaborn as sns\n",
    "%matplotlib inline"
   ]
  },
  {
   "cell_type": "markdown",
   "id": "2fc32e8e",
   "metadata": {},
   "source": [
    "Let's start with loading the dataframe"
   ]
  },
  {
   "cell_type": "code",
   "execution_count": 2,
   "id": "83a279d3",
   "metadata": {},
   "outputs": [],
   "source": [
    "df = pd.read_csv('AER_credit_card_data.csv')"
   ]
  },
  {
   "cell_type": "markdown",
   "id": "96ecdd27",
   "metadata": {},
   "source": [
    "Explore data"
   ]
  },
  {
   "cell_type": "code",
   "execution_count": 3,
   "id": "d1218fb2",
   "metadata": {},
   "outputs": [
    {
     "data": {
      "text/html": [
       "<div>\n",
       "<style scoped>\n",
       "    .dataframe tbody tr th:only-of-type {\n",
       "        vertical-align: middle;\n",
       "    }\n",
       "\n",
       "    .dataframe tbody tr th {\n",
       "        vertical-align: top;\n",
       "    }\n",
       "\n",
       "    .dataframe thead th {\n",
       "        text-align: right;\n",
       "    }\n",
       "</style>\n",
       "<table border=\"1\" class=\"dataframe\">\n",
       "  <thead>\n",
       "    <tr style=\"text-align: right;\">\n",
       "      <th></th>\n",
       "      <th>card</th>\n",
       "      <th>reports</th>\n",
       "      <th>age</th>\n",
       "      <th>income</th>\n",
       "      <th>share</th>\n",
       "      <th>expenditure</th>\n",
       "      <th>owner</th>\n",
       "      <th>selfemp</th>\n",
       "      <th>dependents</th>\n",
       "      <th>months</th>\n",
       "      <th>majorcards</th>\n",
       "      <th>active</th>\n",
       "    </tr>\n",
       "  </thead>\n",
       "  <tbody>\n",
       "    <tr>\n",
       "      <th>0</th>\n",
       "      <td>yes</td>\n",
       "      <td>0</td>\n",
       "      <td>37.66667</td>\n",
       "      <td>4.5200</td>\n",
       "      <td>0.033270</td>\n",
       "      <td>124.983300</td>\n",
       "      <td>yes</td>\n",
       "      <td>no</td>\n",
       "      <td>3</td>\n",
       "      <td>54</td>\n",
       "      <td>1</td>\n",
       "      <td>12</td>\n",
       "    </tr>\n",
       "    <tr>\n",
       "      <th>1</th>\n",
       "      <td>yes</td>\n",
       "      <td>0</td>\n",
       "      <td>33.25000</td>\n",
       "      <td>2.4200</td>\n",
       "      <td>0.005217</td>\n",
       "      <td>9.854167</td>\n",
       "      <td>no</td>\n",
       "      <td>no</td>\n",
       "      <td>3</td>\n",
       "      <td>34</td>\n",
       "      <td>1</td>\n",
       "      <td>13</td>\n",
       "    </tr>\n",
       "    <tr>\n",
       "      <th>2</th>\n",
       "      <td>yes</td>\n",
       "      <td>0</td>\n",
       "      <td>33.66667</td>\n",
       "      <td>4.5000</td>\n",
       "      <td>0.004156</td>\n",
       "      <td>15.000000</td>\n",
       "      <td>yes</td>\n",
       "      <td>no</td>\n",
       "      <td>4</td>\n",
       "      <td>58</td>\n",
       "      <td>1</td>\n",
       "      <td>5</td>\n",
       "    </tr>\n",
       "    <tr>\n",
       "      <th>3</th>\n",
       "      <td>yes</td>\n",
       "      <td>0</td>\n",
       "      <td>30.50000</td>\n",
       "      <td>2.5400</td>\n",
       "      <td>0.065214</td>\n",
       "      <td>137.869200</td>\n",
       "      <td>no</td>\n",
       "      <td>no</td>\n",
       "      <td>0</td>\n",
       "      <td>25</td>\n",
       "      <td>1</td>\n",
       "      <td>7</td>\n",
       "    </tr>\n",
       "    <tr>\n",
       "      <th>4</th>\n",
       "      <td>yes</td>\n",
       "      <td>0</td>\n",
       "      <td>32.16667</td>\n",
       "      <td>9.7867</td>\n",
       "      <td>0.067051</td>\n",
       "      <td>546.503300</td>\n",
       "      <td>yes</td>\n",
       "      <td>no</td>\n",
       "      <td>2</td>\n",
       "      <td>64</td>\n",
       "      <td>1</td>\n",
       "      <td>5</td>\n",
       "    </tr>\n",
       "  </tbody>\n",
       "</table>\n",
       "</div>"
      ],
      "text/plain": [
       "  card  reports       age  income     share  expenditure owner selfemp  \\\n",
       "0  yes        0  37.66667  4.5200  0.033270   124.983300   yes      no   \n",
       "1  yes        0  33.25000  2.4200  0.005217     9.854167    no      no   \n",
       "2  yes        0  33.66667  4.5000  0.004156    15.000000   yes      no   \n",
       "3  yes        0  30.50000  2.5400  0.065214   137.869200    no      no   \n",
       "4  yes        0  32.16667  9.7867  0.067051   546.503300   yes      no   \n",
       "\n",
       "   dependents  months  majorcards  active  \n",
       "0           3      54           1      12  \n",
       "1           3      34           1      13  \n",
       "2           4      58           1       5  \n",
       "3           0      25           1       7  \n",
       "4           2      64           1       5  "
      ]
     },
     "execution_count": 3,
     "metadata": {},
     "output_type": "execute_result"
    }
   ],
   "source": [
    "df.head()"
   ]
  },
  {
   "cell_type": "code",
   "execution_count": 4,
   "id": "6002c5dd",
   "metadata": {},
   "outputs": [
    {
     "data": {
      "text/plain": [
       "<AxesSubplot:xlabel='card', ylabel='Count'>"
      ]
     },
     "execution_count": 4,
     "metadata": {},
     "output_type": "execute_result"
    },
    {
     "data": {
      "image/png": "[encoded data removed]",
      "text/plain": [
       "<Figure size 640x480 with 1 Axes>"
      ]
     },
     "metadata": {},
     "output_type": "display_data"
    }
   ],
   "source": [
    "sns.histplot(df.card)"
   ]
  },
  {
   "cell_type": "markdown",
   "id": "88cb241e",
   "metadata": {},
   "source": [
    "# Data Preparation"
   ]
  },
  {
   "cell_type": "code",
   "execution_count": 9,
   "id": "96c22fa6",
   "metadata": {},
   "outputs": [],
   "source": [
    "df['card_bin'] = np.where(df.card=='yes',1,0)"
   ]
  },
  {
   "cell_type": "code",
   "execution_count": 11,
   "id": "b4677241",
   "metadata": {
    "scrolled": true
   },
   "outputs": [
    {
     "name": "stdout",
     "output_type": "stream",
     "text": [
      "791 264 264\n"
     ]
    }
   ],
   "source": [
    "from sklearn.model_selection import train_test_split\n",
    "df_full_train, df_test = train_test_split(df, test_size=0.2, random_state=1)\n",
    "df_train, df_val = train_test_split(df_full_train, test_size=0.2/(0.2+0.6), random_state=1)\n",
    "print(len(df_train), len(df_val), len(df_test))\n",
    "df_train = df_train.reset_index(drop=True)\n",
    "df_val = df_val.reset_index(drop=True)\n",
    "df_test = df_test.reset_index(drop=True)\n",
    "y_train = df_train.card_bin.values\n",
    "y_val = df_val.card_bin.values\n",
    "y_test = df_test.card_bin.values\n",
    "del df_train['card_bin']\n",
    "del df_val['card_bin']\n",
    "del df_test['card_bin']"
   ]
  },
  {
   "cell_type": "markdown",
   "id": "61b39848",
   "metadata": {},
   "source": [
    "# Question 1"
   ]
  },
  {
   "cell_type": "code",
   "execution_count": 40,
   "id": "d59ae8ea",
   "metadata": {},
   "outputs": [],
   "source": [
    "numerical_cols = df_train.dtypes[(df_train.dtypes == np.float64) | (df_train.dtypes == np.int64)].index\n",
    "numerical_cols = list(numerical_cols)"
   ]
  },
  {
   "cell_type": "code",
   "execution_count": 41,
   "id": "2799326a",
   "metadata": {},
   "outputs": [
    {
     "data": {
      "text/plain": [
       "['reports',\n",
       " 'age',\n",
       " 'income',\n",
       " 'share',\n",
       " 'expenditure',\n",
       " 'dependents',\n",
       " 'months',\n",
       " 'majorcards',\n",
       " 'active']"
      ]
     },
     "execution_count": 41,
     "metadata": {},
     "output_type": "execute_result"
    }
   ],
   "source": [
    "numerical_cols"
   ]
  },
  {
   "cell_type": "code",
   "execution_count": 42,
   "id": "8ecbc5fc",
   "metadata": {},
   "outputs": [
    {
     "name": "stdout",
     "output_type": "stream",
     "text": [
      "reports 0.7166629860689376\n",
      "age 0.5240020979407055\n",
      "income 0.5908049467233478\n",
      "share 0.989183643423692\n",
      "expenditure 0.991042345276873\n",
      "dependents 0.5327757227773791\n",
      "months 0.5294217780967629\n",
      "majorcards 0.5343859842838476\n",
      "active 0.6043173411362006\n"
     ]
    }
   ],
   "source": [
    "from sklearn.metrics import roc_auc_score\n",
    "for col in numerical_cols:\n",
    "    roc_auc = roc_auc_score(y_train, df_train[col])\n",
    "    if roc_auc < 0.5:\n",
    "        roc_auc = 1 - roc_auc\n",
    "    print(col,roc_auc)"
   ]
  },
  {
   "cell_type": "markdown",
   "id": "0a5e4d15",
   "metadata": {},
   "source": [
    "share 0.989183643423692"
   ]
  },
  {
   "cell_type": "markdown",
   "id": "7ed7a9ac",
   "metadata": {},
   "source": [
    "# Training the model"
   ]
  },
  {
   "cell_type": "code",
   "execution_count": 43,
   "id": "29b3e0dd",
   "metadata": {},
   "outputs": [],
   "source": [
    "train_cols = [\"reports\", \"age\", \"income\", \"share\", \"expenditure\", \"dependents\", \"months\", \"majorcards\", \"active\", \"owner\", \"selfemp\"]"
   ]
  },
  {
   "cell_type": "code",
   "execution_count": 44,
   "id": "12d15b58",
   "metadata": {},
   "outputs": [],
   "source": [
    "#One Hot Encoding\n",
    "from sklearn.feature_extraction import DictVectorizer\n",
    "dv = DictVectorizer(sparse=False)\n",
    "train_dict = df_train[train_cols].to_dict(orient='records')\n",
    "dv.fit_transform(train_dict)\n",
    "X_train = dv.fit_transform(train_dict)\n",
    "\n",
    "val_dict = df_val[train_cols].to_dict(orient='records')\n",
    "X_val = dv.transform(val_dict)\n",
    "\n",
    "test_dict = df_test[train_cols].to_dict(orient='records')\n",
    "X_test = dv.transform(test_dict)"
   ]
  },
  {
   "cell_type": "code",
   "execution_count": 45,
   "id": "5b0d4fd6",
   "metadata": {},
   "outputs": [
    {
     "data": {
      "text/plain": [
       "array([1.700000e+01, 4.050000e+01, 1.000000e+00, 0.000000e+00,\n",
       "       4.012800e+00, 1.000000e+00, 1.200000e+01, 1.000000e+00,\n",
       "       0.000000e+00, 3.000000e+00, 1.000000e+00, 0.000000e+00,\n",
       "       2.990431e-04])"
      ]
     },
     "execution_count": 45,
     "metadata": {},
     "output_type": "execute_result"
    }
   ],
   "source": [
    "X_train[0,:]"
   ]
  },
  {
   "cell_type": "code",
   "execution_count": 59,
   "id": "dfcfce1e",
   "metadata": {},
   "outputs": [
    {
     "data": {
      "text/html": [
       "<style>#sk-container-id-6 {color: black;background-color: white;}#sk-container-id-6 pre{padding: 0;}#sk-container-id-6 div.sk-toggleable {background-color: white;}#sk-container-id-6 label.sk-toggleable__label {cursor: pointer;display: block;width: 100%;margin-bottom: 0;padding: 0.3em;box-sizing: border-box;text-align: center;}#sk-container-id-6 label.sk-toggleable__label-arrow:before {content: \"▸\";float: left;margin-right: 0.25em;color: #696969;}#sk-container-id-6 label.sk-toggleable__label-arrow:hover:before {color: black;}#sk-container-id-6 div.sk-estimator:hover label.sk-toggleable__label-arrow:before {color: black;}#sk-container-id-6 div.sk-toggleable__content {max-height: 0;max-width: 0;overflow: hidden;text-align: left;background-color: #f0f8ff;}#sk-container-id-6 div.sk-toggleable__content pre {margin: 0.2em;color: black;border-radius: 0.25em;background-color: #f0f8ff;}#sk-container-id-6 input.sk-toggleable__control:checked~div.sk-toggleable__content {max-height: 200px;max-width: 100%;overflow: auto;}#sk-container-id-6 input.sk-toggleable__control:checked~label.sk-toggleable__label-arrow:before {content: \"▾\";}#sk-container-id-6 div.sk-estimator input.sk-toggleable__control:checked~label.sk-toggleable__label {background-color: #d4ebff;}#sk-container-id-6 div.sk-label input.sk-toggleable__control:checked~label.sk-toggleable__label {background-color: #d4ebff;}#sk-container-id-6 input.sk-hidden--visually {border: 0;clip: rect(1px 1px 1px 1px);clip: rect(1px, 1px, 1px, 1px);height: 1px;margin: -1px;overflow: hidden;padding: 0;position: absolute;width: 1px;}#sk-container-id-6 div.sk-estimator {font-family: monospace;background-color: #f0f8ff;border: 1px dotted black;border-radius: 0.25em;box-sizing: border-box;margin-bottom: 0.5em;}#sk-container-id-6 div.sk-estimator:hover {background-color: #d4ebff;}#sk-container-id-6 div.sk-parallel-item::after {content: \"\";width: 100%;border-bottom: 1px solid gray;flex-grow: 1;}#sk-container-id-6 div.sk-label:hover label.sk-toggleable__label {background-color: #d4ebff;}#sk-container-id-6 div.sk-serial::before {content: \"\";position: absolute;border-left: 1px solid gray;box-sizing: border-box;top: 0;bottom: 0;left: 50%;z-index: 0;}#sk-container-id-6 div.sk-serial {display: flex;flex-direction: column;align-items: center;background-color: white;padding-right: 0.2em;padding-left: 0.2em;position: relative;}#sk-container-id-6 div.sk-item {position: relative;z-index: 1;}#sk-container-id-6 div.sk-parallel {display: flex;align-items: stretch;justify-content: center;background-color: white;position: relative;}#sk-container-id-6 div.sk-item::before, #sk-container-id-6 div.sk-parallel-item::before {content: \"\";position: absolute;border-left: 1px solid gray;box-sizing: border-box;top: 0;bottom: 0;left: 50%;z-index: -1;}#sk-container-id-6 div.sk-parallel-item {display: flex;flex-direction: column;z-index: 1;position: relative;background-color: white;}#sk-container-id-6 div.sk-parallel-item:first-child::after {align-self: flex-end;width: 50%;}#sk-container-id-6 div.sk-parallel-item:last-child::after {align-self: flex-start;width: 50%;}#sk-container-id-6 div.sk-parallel-item:only-child::after {width: 0;}#sk-container-id-6 div.sk-dashed-wrapped {border: 1px dashed gray;margin: 0 0.4em 0.5em 0.4em;box-sizing: border-box;padding-bottom: 0.4em;background-color: white;}#sk-container-id-6 div.sk-label label {font-family: monospace;font-weight: bold;display: inline-block;line-height: 1.2em;}#sk-container-id-6 div.sk-label-container {text-align: center;}#sk-container-id-6 div.sk-container {/* jupyter's `normalize.less` sets `[hidden] { display: none; }` but bootstrap.min.css set `[hidden] { display: none !important; }` so we also need the `!important` here to be able to override the default hidden behavior on the sphinx rendered scikit-learn.org. See: https://github.com/scikit-learn/scikit-learn/issues/21755 */display: inline-block !important;position: relative;}#sk-container-id-6 div.sk-text-repr-fallback {display: none;}</style><div id=\"sk-container-id-6\" class=\"sk-top-container\"><div class=\"sk-text-repr-fallback\"><pre>LogisticRegression(max_iter=1000, solver=&#x27;liblinear&#x27;)</pre><b>In a Jupyter environment, please rerun this cell to show the HTML representation or trust the notebook. <br />On GitHub, the HTML representation is unable to render, please try loading this page with nbviewer.org.</b></div><div class=\"sk-container\" hidden><div class=\"sk-item\"><div class=\"sk-estimator sk-toggleable\"><input class=\"sk-toggleable__control sk-hidden--visually\" id=\"sk-estimator-id-6\" type=\"checkbox\" checked><label for=\"sk-estimator-id-6\" class=\"sk-toggleable__label sk-toggleable__label-arrow\">LogisticRegression</label><div class=\"sk-toggleable__content\"><pre>LogisticRegression(max_iter=1000, solver=&#x27;liblinear&#x27;)</pre></div></div></div></div></div>"
      ],
      "text/plain": [
       "LogisticRegression(max_iter=1000, solver='liblinear')"
      ]
     },
     "execution_count": 59,
     "metadata": {},
     "output_type": "execute_result"
    }
   ],
   "source": [
    "from sklearn.linear_model import LogisticRegression\n",
    "model = LogisticRegression(solver='liblinear', C=1.0, max_iter=1000)\n",
    "model.fit(X_train, y_train)"
   ]
  },
  {
   "cell_type": "markdown",
   "id": "a094d837",
   "metadata": {},
   "source": [
    "# Question 2"
   ]
  },
  {
   "cell_type": "code",
   "execution_count": 60,
   "id": "bb46a6c2",
   "metadata": {},
   "outputs": [],
   "source": [
    "y_pred_val = model.predict(X_val)"
   ]
  },
  {
   "cell_type": "code",
   "execution_count": 66,
   "id": "f7f05b27",
   "metadata": {},
   "outputs": [
    {
     "name": "stdout",
     "output_type": "stream",
     "text": [
      "roc_auc on val ds: 0.974\n"
     ]
    }
   ],
   "source": [
    "print('roc_auc on val ds:',round(roc_auc_score(y_val, y_pred_val),3))"
   ]
  },
  {
   "cell_type": "markdown",
   "id": "d0a71148",
   "metadata": {},
   "source": [
    "# Question 3"
   ]
  },
  {
   "cell_type": "code",
   "execution_count": 69,
   "id": "69ffd942",
   "metadata": {},
   "outputs": [],
   "source": [
    "#y_pred_val_pb = model.predict_proba(X_val)[:, 1]\n",
    "#y_pred_val_th = (y_pred_val_pb >= 0.5)\n",
    "#print('roc_auc on val ds:',round(roc_auc_score(y_val, y_pred_val_th),3))"
   ]
  },
  {
   "cell_type": "code",
   "execution_count": 81,
   "id": "3c23222f",
   "metadata": {},
   "outputs": [
    {
     "data": {
      "image/png": "[encoded data removed]",
      "text/plain": [
       "<Figure size 640x480 with 1 Axes>"
      ]
     },
     "metadata": {},
     "output_type": "display_data"
    },
    {
     "data": {
      "image/png": "[encoded data removed]",
      "text/plain": [
       "<Figure size 640x480 with 1 Axes>"
      ]
     },
     "metadata": {},
     "output_type": "display_data"
    }
   ],
   "source": [
    "y_pred_val_pb = model.predict_proba(X_val)[:, 1]\n",
    "actual_positive = (y_val == 1)\n",
    "actual_negative = (y_val == 0)\n",
    "threshold_list = np.arange(0.0,1.0,0.01)\n",
    "precision_list = []\n",
    "recall_list = []\n",
    "tpr_list = []\n",
    "fpr_list = []\n",
    "for threshold in threshold_list:\n",
    "    y_pred_val_th = (y_pred_val_pb >= threshold)\n",
    "    \n",
    "    predict_positive = (y_pred_val_th == 1)\n",
    "    predict_negative = (y_pred_val_th == 0)\n",
    "    \n",
    "    tp = (predict_positive & actual_positive).sum()#true positive\n",
    "    tn = (predict_negative & actual_negative).sum()#true negative\n",
    "    fp = (predict_positive & actual_negative).sum()#false positive\n",
    "    fn = (predict_negative & actual_positive).sum()#false negative\n",
    "    \n",
    "    p = tp / (tp + fp)# precision\n",
    "    r = tp / (tp + fn)# recall\n",
    "    \n",
    "    precision_list.append(p)\n",
    "    recall_list.append(r)\n",
    "    tpr_list.append(tp/(tp+fp))\n",
    "    fpr_list.append(fp/(fp+tn))\n",
    "plt.plot(threshold_list,precision_list,label='precision')\n",
    "plt.plot(threshold_list,recall_list,label='recall')\n",
    "plt.legend()\n",
    "plt.grid()\n",
    "plt.figure()\n",
    "plt.plot(threshold_list,tpr_list,label='tpr')\n",
    "plt.plot(threshold_list,fpr_list,label='fpr')\n",
    "plt.legend()\n",
    "plt.grid()"
   ]
  },
  {
   "cell_type": "code",
   "execution_count": 77,
   "id": "914a8487",
   "metadata": {},
   "outputs": [],
   "source": [
    "# intersection on threshold = 0.3"
   ]
  },
  {
   "cell_type": "markdown",
   "id": "0e6acf31",
   "metadata": {},
   "source": [
    "# Question 4"
   ]
  },
  {
   "cell_type": "code",
   "execution_count": 82,
   "id": "55300f65",
   "metadata": {},
   "outputs": [
    {
     "data": {
      "image/png": "[encoded data removed]",
      "text/plain": [
       "<Figure size 640x480 with 1 Axes>"
      ]
     },
     "metadata": {},
     "output_type": "display_data"
    }
   ],
   "source": [
    "f1_list = []\n",
    "f1_max = 0\n",
    "th_max = 0\n",
    "for idx,threshold in enumerate(threshold_list):\n",
    "    p = precision_list[idx]\n",
    "    r = recall_list[idx]\n",
    "    f1 = 2*(p*r)/(p+r)\n",
    "    if f1 > f1_max:\n",
    "        f1_max = f1\n",
    "        th_max = threshold\n",
    "    f1_list.append(f1)\n",
    "plt.plot(threshold_list,f1_list,label='f1 score')\n",
    "plt.legend()\n",
    "plt.grid()"
   ]
  },
  {
   "cell_type": "code",
   "execution_count": 84,
   "id": "2434c7f5",
   "metadata": {},
   "outputs": [
    {
     "data": {
      "text/plain": [
       "(0.9832134292565947, 0.35000000000000003)"
      ]
     },
     "execution_count": 84,
     "metadata": {},
     "output_type": "execute_result"
    }
   ],
   "source": [
    "f1_max,th_max"
   ]
  },
  {
   "cell_type": "markdown",
   "id": "6a8326fd",
   "metadata": {},
   "source": [
    "* at 0.4 f1 is max"
   ]
  },
  {
   "cell_type": "markdown",
   "id": "9377fb80",
   "metadata": {},
   "source": [
    "# Question 5"
   ]
  },
  {
   "cell_type": "code",
   "execution_count": 86,
   "id": "2273c0fb",
   "metadata": {},
   "outputs": [
    {
     "name": "stdout",
     "output_type": "stream",
     "text": [
      "roc_auc 0.9675387596899225\n",
      "roc_auc 0.984375\n",
      "roc_auc 0.9739789196310935\n",
      "roc_auc 0.9908536585365854\n",
      "roc_auc 1.0\n",
      "0.011596469127928001\n"
     ]
    }
   ],
   "source": [
    "from sklearn.model_selection import KFold\n",
    "kfold = KFold(n_splits=5, shuffle=True, random_state=1)\n",
    "roc_auc_list = []\n",
    "for train_idx, val_idx in kfold.split(df_full_train):\n",
    "    # setting train val ds\n",
    "    df_train_kfold = df_full_train.iloc[train_idx]\n",
    "    df_val_kfold = df_full_train.iloc[val_idx]\n",
    "\n",
    "    # setting ground truth y\n",
    "    y_train_kfold = df_train_kfold.card_bin.values\n",
    "    y_val_kfold = df_val_kfold.card_bin.values\n",
    "\n",
    "    # one hot encoding on train\n",
    "    dv_kfold = DictVectorizer(sparse=False)\n",
    "    train_kfold_dict = df_train_kfold[train_cols].to_dict(orient='records')\n",
    "    dv_kfold.fit_transform(train_kfold_dict)\n",
    "    X_train_kfold = dv.fit_transform(train_kfold_dict)\n",
    "    \n",
    "    # apply one hot encoding on val\n",
    "    val_kfold_dict = df_val_kfold[train_cols].to_dict(orient='records')\n",
    "    X_val_kfold = dv_kfold.transform(val_kfold_dict)\n",
    "    \n",
    "    # train LogReg on train\n",
    "    model_kfold = LogisticRegression(solver='liblinear', C=1.0, max_iter=1000)\n",
    "    model_kfold.fit(X_train_kfold, y_train_kfold)\n",
    "    \n",
    "    y_val_kfold_pred = model_kfold.predict(X_val_kfold)\n",
    "    roc_auc = roc_auc_score(y_val_kfold, y_val_kfold_pred)\n",
    "    roc_auc_list.append(roc_auc)\n",
    "\n",
    "    print('roc_auc',roc_auc)\n",
    "    \n",
    "print(np.std(roc_auc_list))"
   ]
  },
  {
   "cell_type": "markdown",
   "id": "75b3bb62",
   "metadata": {},
   "source": [
    "# Question 6"
   ]
  },
  {
   "cell_type": "code",
   "execution_count": 87,
   "id": "78f320eb",
   "metadata": {},
   "outputs": [
    {
     "name": "stdout",
     "output_type": "stream",
     "text": [
      "roc_auc 0.9791666666666667\n",
      "roc_auc 0.98125\n",
      "roc_auc 0.9848484848484849\n",
      "roc_auc 0.9908536585365854\n",
      "roc_auc 0.9970238095238095\n",
      "C=0.01 0.987 +- 0.007\n",
      "roc_auc 0.9675387596899225\n",
      "roc_auc 0.984375\n",
      "roc_auc 0.9848484848484849\n",
      "roc_auc 0.9908536585365854\n",
      "roc_auc 0.9970238095238095\n",
      "C=0.1 0.985 +- 0.010\n",
      "roc_auc 0.9675387596899225\n",
      "roc_auc 0.984375\n",
      "roc_auc 0.9739789196310935\n",
      "roc_auc 0.9908536585365854\n",
      "roc_auc 1.0\n",
      "C=1 0.983 +- 0.012\n",
      "roc_auc 0.9559108527131784\n",
      "roc_auc 0.984375\n",
      "roc_auc 0.9661396574440052\n",
      "roc_auc 0.9939024390243902\n",
      "roc_auc 0.9883720930232558\n",
      "C=10 0.978 +- 0.014\n"
     ]
    }
   ],
   "source": [
    "C_list = [0.01, 0.1, 1, 10]\n",
    "for C in C_list:\n",
    "    kfold = KFold(n_splits=5, shuffle=True, random_state=1)\n",
    "    roc_auc_list = []\n",
    "    for train_idx, val_idx in kfold.split(df_full_train):\n",
    "        # setting train val ds\n",
    "        df_train_kfold = df_full_train.iloc[train_idx]\n",
    "        df_val_kfold = df_full_train.iloc[val_idx]\n",
    "\n",
    "        # setting ground truth y\n",
    "        y_train_kfold = df_train_kfold.card_bin.values\n",
    "        y_val_kfold = df_val_kfold.card_bin.values\n",
    "\n",
    "        # one hot encoding on train\n",
    "        dv_kfold = DictVectorizer(sparse=False)\n",
    "        train_kfold_dict = df_train_kfold[train_cols].to_dict(orient='records')\n",
    "        dv_kfold.fit_transform(train_kfold_dict)\n",
    "        X_train_kfold = dv.fit_transform(train_kfold_dict)\n",
    "\n",
    "        # apply one hot encoding on val\n",
    "        val_kfold_dict = df_val_kfold[train_cols].to_dict(orient='records')\n",
    "        X_val_kfold = dv_kfold.transform(val_kfold_dict)\n",
    "\n",
    "        # train LogReg on train\n",
    "        model_kfold = LogisticRegression(solver='liblinear', C=C, max_iter=1000)\n",
    "        model_kfold.fit(X_train_kfold, y_train_kfold)\n",
    "\n",
    "        y_val_kfold_pred = model_kfold.predict(X_val_kfold)\n",
    "        roc_auc = roc_auc_score(y_val_kfold, y_val_kfold_pred)\n",
    "        roc_auc_list.append(roc_auc)\n",
    "\n",
    "        print('roc_auc',roc_auc)\n",
    "    print('C=%s %.3f +- %.3f' % (C, np.mean(roc_auc_list), np.std(roc_auc_list)))"
   ]
  },
  {
   "cell_type": "code",
   "execution_count": null,
   "id": "6320e47d",
   "metadata": {},
   "outputs": [],
   "source": []
  }
 ],
 "metadata": {
  "kernelspec": {
   "display_name": "Python 3 (ipykernel)",
   "language": "python",
   "name": "python3"
  },
  "language_info": {
   "codemirror_mode": {
    "name": "ipython",
    "version": 3
   },
   "file_extension": ".py",
   "mimetype": "text/x-python",
   "name": "python",
   "nbconvert_exporter": "python",
   "pygments_lexer": "ipython3",
   "version": "3.9.13"
  }
 },
 "nbformat": 4,
 "nbformat_minor": 5
}
