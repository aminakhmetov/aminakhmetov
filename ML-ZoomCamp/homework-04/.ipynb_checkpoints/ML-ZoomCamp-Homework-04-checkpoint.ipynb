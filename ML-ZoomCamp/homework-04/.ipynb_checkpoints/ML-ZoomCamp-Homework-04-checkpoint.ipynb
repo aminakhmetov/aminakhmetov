{
 "cells": [
  {
   "cell_type": "markdown",
   "id": "0cd92dd0",
   "metadata": {},
   "source": [
    "# This is homework of forth week."
   ]
  },
  {
   "cell_type": "code",
   "execution_count": 1,
   "id": "feaa3ca7",
   "metadata": {},
   "outputs": [],
   "source": [
    "import numpy as np\n",
    "import pandas as pd\n",
    "import matplotlib.pyplot as plt\n",
    "import seaborn as sns\n",
    "%matplotlib inline"
   ]
  },
  {
   "cell_type": "markdown",
   "id": "2fc32e8e",
   "metadata": {},
   "source": [
    "Let's start with loading the dataframe"
   ]
  },
  {
   "cell_type": "code",
   "execution_count": 2,
   "id": "83a279d3",
   "metadata": {},
   "outputs": [],
   "source": [
    "df = pd.read_csv('AER_credit_card_data.csv')"
   ]
  },
  {
   "cell_type": "markdown",
   "id": "96ecdd27",
   "metadata": {},
   "source": [
    "Explore data"
   ]
  },
  {
   "cell_type": "code",
   "execution_count": 3,
   "id": "d1218fb2",
   "metadata": {},
   "outputs": [
    {
     "data": {
      "text/html": [
       "<div>\n",
       "<style scoped>\n",
       "    .dataframe tbody tr th:only-of-type {\n",
       "        vertical-align: middle;\n",
       "    }\n",
       "\n",
       "    .dataframe tbody tr th {\n",
       "        vertical-align: top;\n",
       "    }\n",
       "\n",
       "    .dataframe thead th {\n",
       "        text-align: right;\n",
       "    }\n",
       "</style>\n",
       "<table border=\"1\" class=\"dataframe\">\n",
       "  <thead>\n",
       "    <tr style=\"text-align: right;\">\n",
       "      <th></th>\n",
       "      <th>card</th>\n",
       "      <th>reports</th>\n",
       "      <th>age</th>\n",
       "      <th>income</th>\n",
       "      <th>share</th>\n",
       "      <th>expenditure</th>\n",
       "      <th>owner</th>\n",
       "      <th>selfemp</th>\n",
       "      <th>dependents</th>\n",
       "      <th>months</th>\n",
       "      <th>majorcards</th>\n",
       "      <th>active</th>\n",
       "    </tr>\n",
       "  </thead>\n",
       "  <tbody>\n",
       "    <tr>\n",
       "      <th>0</th>\n",
       "      <td>yes</td>\n",
       "      <td>0</td>\n",
       "      <td>37.66667</td>\n",
       "      <td>4.5200</td>\n",
       "      <td>0.033270</td>\n",
       "      <td>124.983300</td>\n",
       "      <td>yes</td>\n",
       "      <td>no</td>\n",
       "      <td>3</td>\n",
       "      <td>54</td>\n",
       "      <td>1</td>\n",
       "      <td>12</td>\n",
       "    </tr>\n",
       "    <tr>\n",
       "      <th>1</th>\n",
       "      <td>yes</td>\n",
       "      <td>0</td>\n",
       "      <td>33.25000</td>\n",
       "      <td>2.4200</td>\n",
       "      <td>0.005217</td>\n",
       "      <td>9.854167</td>\n",
       "      <td>no</td>\n",
       "      <td>no</td>\n",
       "      <td>3</td>\n",
       "      <td>34</td>\n",
       "      <td>1</td>\n",
       "      <td>13</td>\n",
       "    </tr>\n",
       "    <tr>\n",
       "      <th>2</th>\n",
       "      <td>yes</td>\n",
       "      <td>0</td>\n",
       "      <td>33.66667</td>\n",
       "      <td>4.5000</td>\n",
       "      <td>0.004156</td>\n",
       "      <td>15.000000</td>\n",
       "      <td>yes</td>\n",
       "      <td>no</td>\n",
       "      <td>4</td>\n",
       "      <td>58</td>\n",
       "      <td>1</td>\n",
       "      <td>5</td>\n",
       "    </tr>\n",
       "    <tr>\n",
       "      <th>3</th>\n",
       "      <td>yes</td>\n",
       "      <td>0</td>\n",
       "      <td>30.50000</td>\n",
       "      <td>2.5400</td>\n",
       "      <td>0.065214</td>\n",
       "      <td>137.869200</td>\n",
       "      <td>no</td>\n",
       "      <td>no</td>\n",
       "      <td>0</td>\n",
       "      <td>25</td>\n",
       "      <td>1</td>\n",
       "      <td>7</td>\n",
       "    </tr>\n",
       "    <tr>\n",
       "      <th>4</th>\n",
       "      <td>yes</td>\n",
       "      <td>0</td>\n",
       "      <td>32.16667</td>\n",
       "      <td>9.7867</td>\n",
       "      <td>0.067051</td>\n",
       "      <td>546.503300</td>\n",
       "      <td>yes</td>\n",
       "      <td>no</td>\n",
       "      <td>2</td>\n",
       "      <td>64</td>\n",
       "      <td>1</td>\n",
       "      <td>5</td>\n",
       "    </tr>\n",
       "  </tbody>\n",
       "</table>\n",
       "</div>"
      ],
      "text/plain": [
       "  card  reports       age  income     share  expenditure owner selfemp  \\\n",
       "0  yes        0  37.66667  4.5200  0.033270   124.983300   yes      no   \n",
       "1  yes        0  33.25000  2.4200  0.005217     9.854167    no      no   \n",
       "2  yes        0  33.66667  4.5000  0.004156    15.000000   yes      no   \n",
       "3  yes        0  30.50000  2.5400  0.065214   137.869200    no      no   \n",
       "4  yes        0  32.16667  9.7867  0.067051   546.503300   yes      no   \n",
       "\n",
       "   dependents  months  majorcards  active  \n",
       "0           3      54           1      12  \n",
       "1           3      34           1      13  \n",
       "2           4      58           1       5  \n",
       "3           0      25           1       7  \n",
       "4           2      64           1       5  "
      ]
     },
     "execution_count": 3,
     "metadata": {},
     "output_type": "execute_result"
    }
   ],
   "source": [
    "df.head()"
   ]
  },
  {
   "cell_type": "code",
   "execution_count": 4,
   "id": "6002c5dd",
   "metadata": {},
   "outputs": [
    {
     "data": {
      "text/plain": [
       "<AxesSubplot:xlabel='card', ylabel='Count'>"
      ]
     },
     "execution_count": 4,
     "metadata": {},
     "output_type": "execute_result"
    },
    {
     "data": {
      "image/png": "[encoded data removed]",
      "text/plain": [
       "<Figure size 640x480 with 1 Axes>"
      ]
     },
     "metadata": {},
     "output_type": "display_data"
    }
   ],
   "source": [
    "sns.histplot(df.card)"
   ]
  },
  {
   "cell_type": "code",
   "execution_count": null,
   "id": "bfe6ecf5",
   "metadata": {},
   "outputs": [],
   "source": [
    "Data Preparati"
   ]
  },
  {
   "cell_type": "code",
   "execution_count": 6,
   "id": "96c22fa6",
   "metadata": {},
   "outputs": [],
   "source": [
    "cols = ['latitude','longitude','housing_median_age','total_rooms','total_bedrooms','population','households','median_income','median_house_value','ocean_proximity']"
   ]
  },
  {
   "cell_type": "markdown",
   "id": "61b39848",
   "metadata": {},
   "source": [
    "Question 1\n",
    "\n",
    "* What is the most frequent observation (mode) for the column ocean_proximity?"
   ]
  },
  {
   "cell_type": "markdown",
   "id": "5a43eb99",
   "metadata": {},
   "source": [
    "Splitting data"
   ]
  },
  {
   "cell_type": "code",
   "execution_count": 17,
   "id": "8ba15ff2",
   "metadata": {},
   "outputs": [
    {
     "name": "stdout",
     "output_type": "stream",
     "text": [
      "12384 4128 4128\n"
     ]
    }
   ],
   "source": [
    "from sklearn.model_selection import train_test_split\n",
    "df_full_train, df_test = train_test_split(df, test_size=0.2, random_state=42)\n",
    "df_train, df_val = train_test_split(df_full_train, test_size=0.2/(0.2+0.6), random_state=42)\n",
    "print(len(df_train), len(df_val), len(df_test))\n",
    "df_train = df_train.reset_index(drop=True)\n",
    "df_val = df_val.reset_index(drop=True)\n",
    "df_test = df_test.reset_index(drop=True)\n",
    "y_train_cat = df_train.above_average.values\n",
    "y_val_cat = df_val.above_average.values\n",
    "y_test_cat = df_test.above_average.values\n",
    "y_train_num = df_train.median_house_value.values\n",
    "y_val_num = df_val.median_house_value.values\n",
    "y_test_num = df_test.median_house_value.values\n",
    "del df_train['median_house_value']\n",
    "del df_val['median_house_value']\n",
    "del df_test['median_house_value']\n",
    "del df_train['above_average']\n",
    "del df_val['above_average']\n",
    "del df_test['above_average']"
   ]
  },
  {
   "cell_type": "markdown",
   "id": "18b6f3ce",
   "metadata": {},
   "source": [
    "Question 3\n",
    "\n",
    "* Calculate the mutual information score with the (binarized) price for the categorical variable that we have. Use the training set only.\n",
    "* What is the value of mutual information?\n",
    "* Round it to 2 decimal digits using round(score, 2)"
   ]
  },
  {
   "cell_type": "code",
   "execution_count": 18,
   "id": "f5676593",
   "metadata": {},
   "outputs": [],
   "source": [
    "#lets set cols that will be used further\n",
    "numerical = list(numerical_cols[numerical_cols!='median_house_value'])\n",
    "categorical = ['ocean_proximity']"
   ]
  },
  {
   "cell_type": "code",
   "execution_count": 19,
   "id": "7ae8c147",
   "metadata": {},
   "outputs": [
    {
     "data": {
      "text/plain": [
       "0.10138385763624205"
      ]
     },
     "execution_count": 19,
     "metadata": {},
     "output_type": "execute_result"
    }
   ],
   "source": [
    "from sklearn.metrics import mutual_info_score\n",
    "#def mutual_info_above_average_score(series):\n",
    "#    return mutual_info_score(series, df_train.above_average)\n",
    "#mi = df_train[categorical].apply(mutual_info_above_average_score)\n",
    "#mi.sort_values(ascending=False)\n",
    "mutual_info_score(df_train['ocean_proximity'],y_train_cat)"
   ]
  },
  {
   "cell_type": "markdown",
   "id": "034de172",
   "metadata": {},
   "source": [
    "Question 4\n",
    "\n",
    "* Now let's train a logistic regression\n",
    "* Remember that we have one categorical variable ocean_proximity in the data. Include it using one-hot encoding.\n",
    "* Fit the model on the training dataset.\n",
    " -- To make sure the results are reproducible across different versions of Scikit-Learn, fit the model with these parameters:\n",
    " -- model = LogisticRegression(solver=\"liblinear\", C=1.0, max_iter=1000, random_state=42)\n",
    "* Calculate the accuracy on the validation dataset and round it to 2 decimal digits."
   ]
  },
  {
   "cell_type": "code",
   "execution_count": 20,
   "id": "37aad621",
   "metadata": {},
   "outputs": [],
   "source": [
    "#One Hot Encoding\n",
    "from sklearn.feature_extraction import DictVectorizer\n",
    "dv = DictVectorizer(sparse=False)\n",
    "train_dict = df_train[numerical+categorical].to_dict(orient='records')\n",
    "dv.fit_transform(train_dict)\n",
    "X_train = dv.fit_transform(train_dict)\n",
    "\n",
    "val_dict = df_val[categorical + numerical].to_dict(orient='records')\n",
    "X_val = dv.transform(val_dict)\n",
    "\n",
    "test_dict = df_test[categorical + numerical].to_dict(orient='records')\n",
    "X_test = dv.transform(test_dict)"
   ]
  },
  {
   "cell_type": "code",
   "execution_count": 21,
   "id": "0e92787c",
   "metadata": {},
   "outputs": [
    {
     "data": {
      "text/plain": [
       "latitude                        34.43\n",
       "longitude                     -119.67\n",
       "housing_median_age               39.0\n",
       "total_rooms                    1467.0\n",
       "total_bedrooms                  381.0\n",
       "population                     1404.0\n",
       "households                      374.0\n",
       "median_income                  2.3681\n",
       "rooms_per_household           3.92246\n",
       "bedrooms_per_room            0.259714\n",
       "population_per_household     3.754011\n",
       "ocean_proximity             <1H OCEAN\n",
       "Name: 0, dtype: object"
      ]
     },
     "execution_count": 21,
     "metadata": {},
     "output_type": "execute_result"
    }
   ],
   "source": [
    "df_train[numerical+categorical].iloc[0,:]"
   ]
  },
  {
   "cell_type": "code",
   "execution_count": 22,
   "id": "0cccc17c",
   "metadata": {},
   "outputs": [
    {
     "data": {
      "text/plain": [
       "array([ 2.59713701e-01,  3.74000000e+02,  3.90000000e+01,  3.44300000e+01,\n",
       "       -1.19670000e+02,  2.36810000e+00,  1.00000000e+00,  0.00000000e+00,\n",
       "        0.00000000e+00,  0.00000000e+00,  0.00000000e+00,  1.40400000e+03,\n",
       "        3.75401070e+00,  3.92245989e+00,  3.81000000e+02,  1.46700000e+03])"
      ]
     },
     "execution_count": 22,
     "metadata": {},
     "output_type": "execute_result"
    }
   ],
   "source": [
    "X_train[0,:]"
   ]
  },
  {
   "cell_type": "code",
   "execution_count": 23,
   "id": "4c207a71",
   "metadata": {},
   "outputs": [
    {
     "data": {
      "text/html": [
       "<style>#sk-container-id-1 {color: black;background-color: white;}#sk-container-id-1 pre{padding: 0;}#sk-container-id-1 div.sk-toggleable {background-color: white;}#sk-container-id-1 label.sk-toggleable__label {cursor: pointer;display: block;width: 100%;margin-bottom: 0;padding: 0.3em;box-sizing: border-box;text-align: center;}#sk-container-id-1 label.sk-toggleable__label-arrow:before {content: \"▸\";float: left;margin-right: 0.25em;color: #696969;}#sk-container-id-1 label.sk-toggleable__label-arrow:hover:before {color: black;}#sk-container-id-1 div.sk-estimator:hover label.sk-toggleable__label-arrow:before {color: black;}#sk-container-id-1 div.sk-toggleable__content {max-height: 0;max-width: 0;overflow: hidden;text-align: left;background-color: #f0f8ff;}#sk-container-id-1 div.sk-toggleable__content pre {margin: 0.2em;color: black;border-radius: 0.25em;background-color: #f0f8ff;}#sk-container-id-1 input.sk-toggleable__control:checked~div.sk-toggleable__content {max-height: 200px;max-width: 100%;overflow: auto;}#sk-container-id-1 input.sk-toggleable__control:checked~label.sk-toggleable__label-arrow:before {content: \"▾\";}#sk-container-id-1 div.sk-estimator input.sk-toggleable__control:checked~label.sk-toggleable__label {background-color: #d4ebff;}#sk-container-id-1 div.sk-label input.sk-toggleable__control:checked~label.sk-toggleable__label {background-color: #d4ebff;}#sk-container-id-1 input.sk-hidden--visually {border: 0;clip: rect(1px 1px 1px 1px);clip: rect(1px, 1px, 1px, 1px);height: 1px;margin: -1px;overflow: hidden;padding: 0;position: absolute;width: 1px;}#sk-container-id-1 div.sk-estimator {font-family: monospace;background-color: #f0f8ff;border: 1px dotted black;border-radius: 0.25em;box-sizing: border-box;margin-bottom: 0.5em;}#sk-container-id-1 div.sk-estimator:hover {background-color: #d4ebff;}#sk-container-id-1 div.sk-parallel-item::after {content: \"\";width: 100%;border-bottom: 1px solid gray;flex-grow: 1;}#sk-container-id-1 div.sk-label:hover label.sk-toggleable__label {background-color: #d4ebff;}#sk-container-id-1 div.sk-serial::before {content: \"\";position: absolute;border-left: 1px solid gray;box-sizing: border-box;top: 0;bottom: 0;left: 50%;z-index: 0;}#sk-container-id-1 div.sk-serial {display: flex;flex-direction: column;align-items: center;background-color: white;padding-right: 0.2em;padding-left: 0.2em;position: relative;}#sk-container-id-1 div.sk-item {position: relative;z-index: 1;}#sk-container-id-1 div.sk-parallel {display: flex;align-items: stretch;justify-content: center;background-color: white;position: relative;}#sk-container-id-1 div.sk-item::before, #sk-container-id-1 div.sk-parallel-item::before {content: \"\";position: absolute;border-left: 1px solid gray;box-sizing: border-box;top: 0;bottom: 0;left: 50%;z-index: -1;}#sk-container-id-1 div.sk-parallel-item {display: flex;flex-direction: column;z-index: 1;position: relative;background-color: white;}#sk-container-id-1 div.sk-parallel-item:first-child::after {align-self: flex-end;width: 50%;}#sk-container-id-1 div.sk-parallel-item:last-child::after {align-self: flex-start;width: 50%;}#sk-container-id-1 div.sk-parallel-item:only-child::after {width: 0;}#sk-container-id-1 div.sk-dashed-wrapped {border: 1px dashed gray;margin: 0 0.4em 0.5em 0.4em;box-sizing: border-box;padding-bottom: 0.4em;background-color: white;}#sk-container-id-1 div.sk-label label {font-family: monospace;font-weight: bold;display: inline-block;line-height: 1.2em;}#sk-container-id-1 div.sk-label-container {text-align: center;}#sk-container-id-1 div.sk-container {/* jupyter's `normalize.less` sets `[hidden] { display: none; }` but bootstrap.min.css set `[hidden] { display: none !important; }` so we also need the `!important` here to be able to override the default hidden behavior on the sphinx rendered scikit-learn.org. See: https://github.com/scikit-learn/scikit-learn/issues/21755 */display: inline-block !important;position: relative;}#sk-container-id-1 div.sk-text-repr-fallback {display: none;}</style><div id=\"sk-container-id-1\" class=\"sk-top-container\"><div class=\"sk-text-repr-fallback\"><pre>LogisticRegression(max_iter=1000, random_state=42, solver=&#x27;liblinear&#x27;)</pre><b>In a Jupyter environment, please rerun this cell to show the HTML representation or trust the notebook. <br />On GitHub, the HTML representation is unable to render, please try loading this page with nbviewer.org.</b></div><div class=\"sk-container\" hidden><div class=\"sk-item\"><div class=\"sk-estimator sk-toggleable\"><input class=\"sk-toggleable__control sk-hidden--visually\" id=\"sk-estimator-id-1\" type=\"checkbox\" checked><label for=\"sk-estimator-id-1\" class=\"sk-toggleable__label sk-toggleable__label-arrow\">LogisticRegression</label><div class=\"sk-toggleable__content\"><pre>LogisticRegression(max_iter=1000, random_state=42, solver=&#x27;liblinear&#x27;)</pre></div></div></div></div></div>"
      ],
      "text/plain": [
       "LogisticRegression(max_iter=1000, random_state=42, solver='liblinear')"
      ]
     },
     "execution_count": 23,
     "metadata": {},
     "output_type": "execute_result"
    }
   ],
   "source": [
    "from sklearn.linear_model import LogisticRegression\n",
    "model = LogisticRegression(solver=\"liblinear\", C=1.0, max_iter=1000, random_state=42)\n",
    "model.fit(X_train, y_train_cat)"
   ]
  },
  {
   "cell_type": "code",
   "execution_count": 24,
   "id": "74fe9b2a",
   "metadata": {},
   "outputs": [],
   "source": [
    "y_pred_val_cat = model.predict(X_val)"
   ]
  },
  {
   "cell_type": "code",
   "execution_count": 25,
   "id": "3b69ee99",
   "metadata": {},
   "outputs": [
    {
     "data": {
      "text/plain": [
       "array([0, 0, 1, ..., 1, 1, 0])"
      ]
     },
     "execution_count": 25,
     "metadata": {},
     "output_type": "execute_result"
    }
   ],
   "source": [
    "y_pred_val_cat"
   ]
  },
  {
   "cell_type": "code",
   "execution_count": 26,
   "id": "061d0fc5",
   "metadata": {},
   "outputs": [],
   "source": [
    "y_pred_val_prob_cat = model.predict_proba(X_val)"
   ]
  },
  {
   "cell_type": "code",
   "execution_count": 27,
   "id": "cdb4276c",
   "metadata": {},
   "outputs": [
    {
     "data": {
      "text/plain": [
       "array([[0.91991588, 0.08008412],\n",
       "       [0.82569691, 0.17430309],\n",
       "       [0.04759803, 0.95240197],\n",
       "       ...,\n",
       "       [0.03895262, 0.96104738],\n",
       "       [0.14865781, 0.85134219],\n",
       "       [0.52792983, 0.47207017]])"
      ]
     },
     "execution_count": 27,
     "metadata": {},
     "output_type": "execute_result"
    }
   ],
   "source": [
    "y_pred_val_prob_cat"
   ]
  },
  {
   "cell_type": "code",
   "execution_count": 28,
   "id": "abb48b10",
   "metadata": {},
   "outputs": [],
   "source": [
    "y_pred_val_prob_cat = model.predict_proba(X_val)[:, 1]"
   ]
  },
  {
   "cell_type": "code",
   "execution_count": 29,
   "id": "55e1aad2",
   "metadata": {},
   "outputs": [
    {
     "data": {
      "text/plain": [
       "array([0.08008412, 0.17430309, 0.95240197, ..., 0.96104738, 0.85134219,\n",
       "       0.47207017])"
      ]
     },
     "execution_count": 29,
     "metadata": {},
     "output_type": "execute_result"
    }
   ],
   "source": [
    "y_pred_val_prob_cat"
   ]
  },
  {
   "cell_type": "code",
   "execution_count": 32,
   "id": "aea8414d",
   "metadata": {},
   "outputs": [
    {
     "name": "stdout",
     "output_type": "stream",
     "text": [
      "Accuracy: 0.84\n",
      "Accuracy full: 0.8359980620155039\n"
     ]
    }
   ],
   "source": [
    "accuracy_gen = model.score(X_val, y_val_cat)\n",
    "print('Accuracy: '+str(round(accuracy_gen,2)))\n",
    "print('Accuracy full: '+str(accuracy_gen))"
   ]
  },
  {
   "cell_type": "markdown",
   "id": "c5a6fe88",
   "metadata": {},
   "source": [
    "Question 5"
   ]
  },
  {
   "cell_type": "code",
   "execution_count": 43,
   "id": "985dba9f",
   "metadata": {},
   "outputs": [
    {
     "name": "stdout",
     "output_type": "stream",
     "text": [
      "Excluding latitude\n",
      "Accuracy: 0.8335755813953488\n",
      "Difference:0.002422480620155043\n",
      "\n",
      "Excluding longitude\n",
      "Accuracy: 0.8369670542635659\n",
      "Difference:-0.0009689922480620172\n",
      "\n",
      "Excluding housing_median_age\n",
      "Accuracy: 0.8306686046511628\n",
      "Difference:0.005329457364341095\n",
      "\n",
      "Excluding total_rooms\n",
      "Accuracy: 0.8374515503875969\n",
      "Difference:-0.0014534883720930258\n",
      "\n",
      "Excluding total_bedrooms\n",
      "Accuracy: 0.8362403100775194\n",
      "Difference:-0.00024224806201555982\n",
      "\n",
      "Excluding population\n",
      "Accuracy: 0.8263081395348837\n",
      "Difference:0.009689922480620172\n",
      "\n",
      "Excluding households\n",
      "Accuracy: 0.8333333333333334\n",
      "Difference:0.002664728682170492\n",
      "\n",
      "Excluding median_income\n",
      "Accuracy: 0.7851259689922481\n",
      "Difference:0.05087209302325579\n",
      "\n",
      "Excluding rooms_per_household\n",
      "Accuracy: 0.8355135658914729\n",
      "Difference:0.0004844961240310086\n",
      "\n",
      "Excluding bedrooms_per_room\n",
      "Accuracy: 0.8362403100775194\n",
      "Difference:-0.00024224806201555982\n",
      "\n",
      "Excluding population_per_household\n",
      "Accuracy: 0.8367248062015504\n",
      "Difference:-0.0007267441860465684\n",
      "\n",
      "Excluding ocean_proximity\n",
      "Accuracy: 0.8190406976744186\n",
      "Difference:0.0169573643410853\n",
      "\n"
     ]
    }
   ],
   "source": [
    "features_gen = numerical+categorical\n",
    "differencies = []\n",
    "differencies_abs = []\n",
    "for feature in features_gen:\n",
    "    print('Excluding '+feature)\n",
    "    features = features_gen.copy()\n",
    "    features.remove(feature)\n",
    "\n",
    "    dv = DictVectorizer(sparse=False)\n",
    "    \n",
    "    train_dict = df_train[features].to_dict(orient='records')\n",
    "    dv.fit_transform(train_dict)\n",
    "    X_train = dv.fit_transform(train_dict)\n",
    "\n",
    "    val_dict = df_val[features].to_dict(orient='records')\n",
    "    X_val = dv.transform(val_dict)\n",
    "\n",
    "    test_dict = df_test[features].to_dict(orient='records')\n",
    "    X_test = dv.transform(test_dict)\n",
    "    \n",
    "    model = LogisticRegression(solver=\"liblinear\", C=1.0, max_iter=1000, random_state=42)\n",
    "    model.fit(X_train, y_train_cat)\n",
    "    accuracy = model.score(X_val, y_val_cat)\n",
    "    difference = accuracy_gen - accuracy\n",
    "    print('Accuracy: '+str(accuracy))\n",
    "    print('Difference:'+str(difference)+'\\n')\n",
    "    differencies.append(difference)\n",
    "    differencies_abs.append(abs(difference))"
   ]
  },
  {
   "cell_type": "code",
   "execution_count": 39,
   "id": "a1888663",
   "metadata": {},
   "outputs": [
    {
     "data": {
      "text/plain": [
       "-0.0014534883720930258"
      ]
     },
     "execution_count": 39,
     "metadata": {},
     "output_type": "execute_result"
    }
   ],
   "source": [
    "min(differencies)"
   ]
  },
  {
   "cell_type": "code",
   "execution_count": 44,
   "id": "4c310934",
   "metadata": {},
   "outputs": [
    {
     "data": {
      "text/plain": [
       "0.00024224806201555982"
      ]
     },
     "execution_count": 44,
     "metadata": {},
     "output_type": "execute_result"
    }
   ],
   "source": [
    "min(differencies_abs)\n"
   ]
  },
  {
   "cell_type": "markdown",
   "id": "537424c5",
   "metadata": {},
   "source": [
    "Question 6"
   ]
  },
  {
   "cell_type": "code",
   "execution_count": 52,
   "id": "70be7e8e",
   "metadata": {},
   "outputs": [
    {
     "name": "stdout",
     "output_type": "stream",
     "text": [
      "Alpha:0\n",
      "RMSE_val_log:0.524063570701514\n",
      "Alpha:0.01\n",
      "RMSE_val_log:0.524063570718629\n",
      "Alpha:0.1\n",
      "RMSE_val_log:0.5240635708812071\n",
      "Alpha:1.0\n",
      "RMSE_val_log:0.5240635725155536\n",
      "Alpha:10.0\n",
      "RMSE_val_log:0.5240635888333284\n"
     ]
    }
   ],
   "source": [
    "from sklearn.metrics import mean_squared_error\n",
    "from sklearn.linear_model import Ridge\n",
    "features = features_gen.copy()\n",
    "dv = DictVectorizer(sparse=False)\n",
    "\n",
    "train_dict = df_train[features].to_dict(orient='records')\n",
    "dv.fit_transform(train_dict)\n",
    "X_train = dv.fit_transform(train_dict)\n",
    "\n",
    "val_dict = df_val[features].to_dict(orient='records')\n",
    "X_val = dv.transform(val_dict)\n",
    "\n",
    "test_dict = df_test[features].to_dict(orient='records')\n",
    "X_test = dv.transform(test_dict)\n",
    "\n",
    "alpha_list = [0, 0.01, 0.1, 1., 10.]\n",
    "\n",
    "for alpha in alpha_list:\n",
    "    print('Alpha:'+str(alpha))\n",
    "    model = Ridge(alpha=alpha, solver=\"sag\", random_state=42)\n",
    "    model.fit(X_train, np.log1p(y_train_num))\n",
    "    y_val_num_pred = model.predict(X_val)\n",
    "    print('RMSE_val_log:'+str(mean_squared_error(np.log1p(y_val_num),y_val_num_pred)**0.5))\n",
    "    #print('RMSE_val:'+str(mean_squared_error(np.expm1(y_val_num_pred),y_val_num)**0.5))"
   ]
  },
  {
   "cell_type": "code",
   "execution_count": null,
   "id": "2799326a",
   "metadata": {},
   "outputs": [],
   "source": []
  }
 ],
 "metadata": {
  "kernelspec": {
   "display_name": "Python 3 (ipykernel)",
   "language": "python",
   "name": "python3"
  },
  "language_info": {
   "codemirror_mode": {
    "name": "ipython",
    "version": 3
   },
   "file_extension": ".py",
   "mimetype": "text/x-python",
   "name": "python",
   "nbconvert_exporter": "python",
   "pygments_lexer": "ipython3",
   "version": "3.9.13"
  }
 },
 "nbformat": 4,
 "nbformat_minor": 5
}
