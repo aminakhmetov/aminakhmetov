{
 "cells": [
  {
   "cell_type": "markdown",
   "id": "8b191cf0",
   "metadata": {},
   "source": [
    "# Homework of 6th week"
   ]
  },
  {
   "cell_type": "code",
   "execution_count": 2,
   "id": "166aea3f",
   "metadata": {},
   "outputs": [],
   "source": [
    "import re\n",
    "import numpy as np\n",
    "import pandas as pd\n",
    "import seaborn as sns\n",
    "import xgboost as xgb\n",
    "import matplotlib.pyplot as plt\n",
    "from tqdm.auto import tqdm\n",
    "from sklearn.tree import DecisionTreeRegressor\n",
    "from sklearn.tree import export_text\n",
    "from sklearn.feature_extraction import DictVectorizer\n",
    "from sklearn.model_selection import train_test_split\n",
    "from sklearn.ensemble import RandomForestRegressor\n",
    "from sklearn.metrics import mean_squared_error\n",
    "\n",
    "%matplotlib inline"
   ]
  },
  {
   "cell_type": "code",
   "execution_count": 5,
   "id": "e61fe931",
   "metadata": {},
   "outputs": [],
   "source": [
    "#@ READING DATASET:\n",
    "PATH = \"./housing.csv\"\n",
    "select_cols = [\"longitude\", \"latitude\", \"housing_median_age\", \"total_rooms\", \"total_bedrooms\", \"population\", \"households\", \n",
    "               \"median_income\", \"median_house_value\", \"ocean_proximity\"]\n",
    "df = pd.read_csv(PATH, usecols=select_cols)\n",
    "df.total_bedrooms = df.total_bedrooms.fillna(0)"
   ]
  },
  {
   "cell_type": "code",
   "execution_count": 6,
   "id": "57a25c2a",
   "metadata": {},
   "outputs": [],
   "source": [
    "df['median_house_value'] = np.log1p(df.median_house_value)"
   ]
  },
  {
   "cell_type": "code",
   "execution_count": 7,
   "id": "11f3d6d9",
   "metadata": {},
   "outputs": [
    {
     "name": "stdout",
     "output_type": "stream",
     "text": [
      "12384 4128 4128\n"
     ]
    }
   ],
   "source": [
    "from sklearn.model_selection import train_test_split\n",
    "df_full_train, df_test = train_test_split(df, test_size=0.2, random_state=1)\n",
    "df_train, df_val = train_test_split(df_full_train, test_size=0.2/(0.2+0.6), random_state=1)\n",
    "print(len(df_train), len(df_val), len(df_test))\n",
    "df_train = df_train.reset_index(drop=True)\n",
    "df_val = df_val.reset_index(drop=True)\n",
    "df_test = df_test.reset_index(drop=True)\n",
    "y_train = df_train.median_house_value.values\n",
    "y_val = df_val.median_house_value.values\n",
    "y_test = df_test.median_house_value.values\n",
    "del df_train['median_house_value']\n",
    "del df_val['median_house_value']\n",
    "del df_test['median_house_value']"
   ]
  },
  {
   "cell_type": "code",
   "execution_count": 8,
   "id": "8b8cd279",
   "metadata": {},
   "outputs": [],
   "source": [
    "from sklearn.feature_extraction import DictVectorizer\n",
    "dv = DictVectorizer(sparse=False)\n",
    "\n",
    "train_dicts = df_train.to_dict(orient='records')\n",
    "X_train = dv.fit_transform(train_dicts)\n",
    "\n",
    "val_dicts = df_val.to_dict(orient='records')\n",
    "X_val = dv.transform(val_dicts)\n",
    "\n",
    "test_dicts = df_test.to_dict(orient='records')\n",
    "X_test = dv.transform(test_dicts)"
   ]
  },
  {
   "cell_type": "markdown",
   "id": "c8e2429e",
   "metadata": {},
   "source": [
    "Question 1"
   ]
  },
  {
   "cell_type": "code",
   "execution_count": 13,
   "id": "ebdde36b",
   "metadata": {},
   "outputs": [
    {
     "data": {
      "text/html": [
       "<style>#sk-container-id-1 {color: black;background-color: white;}#sk-container-id-1 pre{padding: 0;}#sk-container-id-1 div.sk-toggleable {background-color: white;}#sk-container-id-1 label.sk-toggleable__label {cursor: pointer;display: block;width: 100%;margin-bottom: 0;padding: 0.3em;box-sizing: border-box;text-align: center;}#sk-container-id-1 label.sk-toggleable__label-arrow:before {content: \"▸\";float: left;margin-right: 0.25em;color: #696969;}#sk-container-id-1 label.sk-toggleable__label-arrow:hover:before {color: black;}#sk-container-id-1 div.sk-estimator:hover label.sk-toggleable__label-arrow:before {color: black;}#sk-container-id-1 div.sk-toggleable__content {max-height: 0;max-width: 0;overflow: hidden;text-align: left;background-color: #f0f8ff;}#sk-container-id-1 div.sk-toggleable__content pre {margin: 0.2em;color: black;border-radius: 0.25em;background-color: #f0f8ff;}#sk-container-id-1 input.sk-toggleable__control:checked~div.sk-toggleable__content {max-height: 200px;max-width: 100%;overflow: auto;}#sk-container-id-1 input.sk-toggleable__control:checked~label.sk-toggleable__label-arrow:before {content: \"▾\";}#sk-container-id-1 div.sk-estimator input.sk-toggleable__control:checked~label.sk-toggleable__label {background-color: #d4ebff;}#sk-container-id-1 div.sk-label input.sk-toggleable__control:checked~label.sk-toggleable__label {background-color: #d4ebff;}#sk-container-id-1 input.sk-hidden--visually {border: 0;clip: rect(1px 1px 1px 1px);clip: rect(1px, 1px, 1px, 1px);height: 1px;margin: -1px;overflow: hidden;padding: 0;position: absolute;width: 1px;}#sk-container-id-1 div.sk-estimator {font-family: monospace;background-color: #f0f8ff;border: 1px dotted black;border-radius: 0.25em;box-sizing: border-box;margin-bottom: 0.5em;}#sk-container-id-1 div.sk-estimator:hover {background-color: #d4ebff;}#sk-container-id-1 div.sk-parallel-item::after {content: \"\";width: 100%;border-bottom: 1px solid gray;flex-grow: 1;}#sk-container-id-1 div.sk-label:hover label.sk-toggleable__label {background-color: #d4ebff;}#sk-container-id-1 div.sk-serial::before {content: \"\";position: absolute;border-left: 1px solid gray;box-sizing: border-box;top: 0;bottom: 0;left: 50%;z-index: 0;}#sk-container-id-1 div.sk-serial {display: flex;flex-direction: column;align-items: center;background-color: white;padding-right: 0.2em;padding-left: 0.2em;position: relative;}#sk-container-id-1 div.sk-item {position: relative;z-index: 1;}#sk-container-id-1 div.sk-parallel {display: flex;align-items: stretch;justify-content: center;background-color: white;position: relative;}#sk-container-id-1 div.sk-item::before, #sk-container-id-1 div.sk-parallel-item::before {content: \"\";position: absolute;border-left: 1px solid gray;box-sizing: border-box;top: 0;bottom: 0;left: 50%;z-index: -1;}#sk-container-id-1 div.sk-parallel-item {display: flex;flex-direction: column;z-index: 1;position: relative;background-color: white;}#sk-container-id-1 div.sk-parallel-item:first-child::after {align-self: flex-end;width: 50%;}#sk-container-id-1 div.sk-parallel-item:last-child::after {align-self: flex-start;width: 50%;}#sk-container-id-1 div.sk-parallel-item:only-child::after {width: 0;}#sk-container-id-1 div.sk-dashed-wrapped {border: 1px dashed gray;margin: 0 0.4em 0.5em 0.4em;box-sizing: border-box;padding-bottom: 0.4em;background-color: white;}#sk-container-id-1 div.sk-label label {font-family: monospace;font-weight: bold;display: inline-block;line-height: 1.2em;}#sk-container-id-1 div.sk-label-container {text-align: center;}#sk-container-id-1 div.sk-container {/* jupyter's `normalize.less` sets `[hidden] { display: none; }` but bootstrap.min.css set `[hidden] { display: none !important; }` so we also need the `!important` here to be able to override the default hidden behavior on the sphinx rendered scikit-learn.org. See: https://github.com/scikit-learn/scikit-learn/issues/21755 */display: inline-block !important;position: relative;}#sk-container-id-1 div.sk-text-repr-fallback {display: none;}</style><div id=\"sk-container-id-1\" class=\"sk-top-container\"><div class=\"sk-text-repr-fallback\"><pre>DecisionTreeRegressor(max_depth=1, random_state=1)</pre><b>In a Jupyter environment, please rerun this cell to show the HTML representation or trust the notebook. <br />On GitHub, the HTML representation is unable to render, please try loading this page with nbviewer.org.</b></div><div class=\"sk-container\" hidden><div class=\"sk-item\"><div class=\"sk-estimator sk-toggleable\"><input class=\"sk-toggleable__control sk-hidden--visually\" id=\"sk-estimator-id-1\" type=\"checkbox\" checked><label for=\"sk-estimator-id-1\" class=\"sk-toggleable__label sk-toggleable__label-arrow\">DecisionTreeRegressor</label><div class=\"sk-toggleable__content\"><pre>DecisionTreeRegressor(max_depth=1, random_state=1)</pre></div></div></div></div></div>"
      ],
      "text/plain": [
       "DecisionTreeRegressor(max_depth=1, random_state=1)"
      ]
     },
     "execution_count": 13,
     "metadata": {},
     "output_type": "execute_result"
    }
   ],
   "source": [
    "from sklearn.tree import DecisionTreeRegressor\n",
    "dt = DecisionTreeRegressor(max_depth=1,random_state=1)\n",
    "dt.fit(X_train, y_train)"
   ]
  },
  {
   "cell_type": "code",
   "execution_count": 14,
   "id": "ab74e49e",
   "metadata": {},
   "outputs": [
    {
     "data": {
      "text/plain": [
       "array([0., 0., 0., 0., 0., 0., 1., 0., 0., 0., 0., 0., 0.])"
      ]
     },
     "execution_count": 14,
     "metadata": {},
     "output_type": "execute_result"
    }
   ],
   "source": [
    "dt.feature_importances_"
   ]
  },
  {
   "cell_type": "code",
   "execution_count": 18,
   "id": "03308d52",
   "metadata": {},
   "outputs": [
    {
     "name": "stdout",
     "output_type": "stream",
     "text": [
      "|--- ocean_proximity=INLAND <= 0.50\n",
      "|   |--- value: [12.31]\n",
      "|--- ocean_proximity=INLAND >  0.50\n",
      "|   |--- value: [11.61]\n",
      "\n"
     ]
    }
   ],
   "source": [
    "print(export_text(dt, feature_names=dv.get_feature_names()))"
   ]
  },
  {
   "cell_type": "markdown",
   "id": "2552ec43",
   "metadata": {},
   "source": [
    "* answer ocean_proximity=INLAND"
   ]
  },
  {
   "cell_type": "markdown",
   "id": "f5ba245d",
   "metadata": {},
   "source": [
    "Question 2"
   ]
  },
  {
   "cell_type": "code",
   "execution_count": 20,
   "id": "9cb00a3a",
   "metadata": {},
   "outputs": [
    {
     "data": {
      "text/html": [
       "<style>#sk-container-id-2 {color: black;background-color: white;}#sk-container-id-2 pre{padding: 0;}#sk-container-id-2 div.sk-toggleable {background-color: white;}#sk-container-id-2 label.sk-toggleable__label {cursor: pointer;display: block;width: 100%;margin-bottom: 0;padding: 0.3em;box-sizing: border-box;text-align: center;}#sk-container-id-2 label.sk-toggleable__label-arrow:before {content: \"▸\";float: left;margin-right: 0.25em;color: #696969;}#sk-container-id-2 label.sk-toggleable__label-arrow:hover:before {color: black;}#sk-container-id-2 div.sk-estimator:hover label.sk-toggleable__label-arrow:before {color: black;}#sk-container-id-2 div.sk-toggleable__content {max-height: 0;max-width: 0;overflow: hidden;text-align: left;background-color: #f0f8ff;}#sk-container-id-2 div.sk-toggleable__content pre {margin: 0.2em;color: black;border-radius: 0.25em;background-color: #f0f8ff;}#sk-container-id-2 input.sk-toggleable__control:checked~div.sk-toggleable__content {max-height: 200px;max-width: 100%;overflow: auto;}#sk-container-id-2 input.sk-toggleable__control:checked~label.sk-toggleable__label-arrow:before {content: \"▾\";}#sk-container-id-2 div.sk-estimator input.sk-toggleable__control:checked~label.sk-toggleable__label {background-color: #d4ebff;}#sk-container-id-2 div.sk-label input.sk-toggleable__control:checked~label.sk-toggleable__label {background-color: #d4ebff;}#sk-container-id-2 input.sk-hidden--visually {border: 0;clip: rect(1px 1px 1px 1px);clip: rect(1px, 1px, 1px, 1px);height: 1px;margin: -1px;overflow: hidden;padding: 0;position: absolute;width: 1px;}#sk-container-id-2 div.sk-estimator {font-family: monospace;background-color: #f0f8ff;border: 1px dotted black;border-radius: 0.25em;box-sizing: border-box;margin-bottom: 0.5em;}#sk-container-id-2 div.sk-estimator:hover {background-color: #d4ebff;}#sk-container-id-2 div.sk-parallel-item::after {content: \"\";width: 100%;border-bottom: 1px solid gray;flex-grow: 1;}#sk-container-id-2 div.sk-label:hover label.sk-toggleable__label {background-color: #d4ebff;}#sk-container-id-2 div.sk-serial::before {content: \"\";position: absolute;border-left: 1px solid gray;box-sizing: border-box;top: 0;bottom: 0;left: 50%;z-index: 0;}#sk-container-id-2 div.sk-serial {display: flex;flex-direction: column;align-items: center;background-color: white;padding-right: 0.2em;padding-left: 0.2em;position: relative;}#sk-container-id-2 div.sk-item {position: relative;z-index: 1;}#sk-container-id-2 div.sk-parallel {display: flex;align-items: stretch;justify-content: center;background-color: white;position: relative;}#sk-container-id-2 div.sk-item::before, #sk-container-id-2 div.sk-parallel-item::before {content: \"\";position: absolute;border-left: 1px solid gray;box-sizing: border-box;top: 0;bottom: 0;left: 50%;z-index: -1;}#sk-container-id-2 div.sk-parallel-item {display: flex;flex-direction: column;z-index: 1;position: relative;background-color: white;}#sk-container-id-2 div.sk-parallel-item:first-child::after {align-self: flex-end;width: 50%;}#sk-container-id-2 div.sk-parallel-item:last-child::after {align-self: flex-start;width: 50%;}#sk-container-id-2 div.sk-parallel-item:only-child::after {width: 0;}#sk-container-id-2 div.sk-dashed-wrapped {border: 1px dashed gray;margin: 0 0.4em 0.5em 0.4em;box-sizing: border-box;padding-bottom: 0.4em;background-color: white;}#sk-container-id-2 div.sk-label label {font-family: monospace;font-weight: bold;display: inline-block;line-height: 1.2em;}#sk-container-id-2 div.sk-label-container {text-align: center;}#sk-container-id-2 div.sk-container {/* jupyter's `normalize.less` sets `[hidden] { display: none; }` but bootstrap.min.css set `[hidden] { display: none !important; }` so we also need the `!important` here to be able to override the default hidden behavior on the sphinx rendered scikit-learn.org. See: https://github.com/scikit-learn/scikit-learn/issues/21755 */display: inline-block !important;position: relative;}#sk-container-id-2 div.sk-text-repr-fallback {display: none;}</style><div id=\"sk-container-id-2\" class=\"sk-top-container\"><div class=\"sk-text-repr-fallback\"><pre>RandomForestRegressor(n_estimators=10, n_jobs=-1, random_state=1)</pre><b>In a Jupyter environment, please rerun this cell to show the HTML representation or trust the notebook. <br />On GitHub, the HTML representation is unable to render, please try loading this page with nbviewer.org.</b></div><div class=\"sk-container\" hidden><div class=\"sk-item\"><div class=\"sk-estimator sk-toggleable\"><input class=\"sk-toggleable__control sk-hidden--visually\" id=\"sk-estimator-id-2\" type=\"checkbox\" checked><label for=\"sk-estimator-id-2\" class=\"sk-toggleable__label sk-toggleable__label-arrow\">RandomForestRegressor</label><div class=\"sk-toggleable__content\"><pre>RandomForestRegressor(n_estimators=10, n_jobs=-1, random_state=1)</pre></div></div></div></div></div>"
      ],
      "text/plain": [
       "RandomForestRegressor(n_estimators=10, n_jobs=-1, random_state=1)"
      ]
     },
     "execution_count": 20,
     "metadata": {},
     "output_type": "execute_result"
    }
   ],
   "source": [
    "from sklearn.ensemble import RandomForestRegressor\n",
    "rf = RandomForestRegressor(n_estimators=10, random_state=1,n_jobs=-1)\n",
    "rf.fit(X_train, y_train)"
   ]
  },
  {
   "cell_type": "code",
   "execution_count": 22,
   "id": "b89bdbb2",
   "metadata": {},
   "outputs": [],
   "source": [
    "from sklearn.metrics import mean_squared_error\n",
    "def root_mean_squared_error(x,y):\n",
    "    return mean_squared_error(x,y)**0.5\n",
    "y_val_hat = rf.predict(X_val)\n",
    "rmse_val = root_mean_squared_error(y_val,y_val_hat)"
   ]
  },
  {
   "cell_type": "code",
   "execution_count": 23,
   "id": "701b386f",
   "metadata": {},
   "outputs": [
    {
     "data": {
      "text/plain": [
       "0.24579193759466622"
      ]
     },
     "execution_count": 23,
     "metadata": {},
     "output_type": "execute_result"
    }
   ],
   "source": [
    "rmse_val"
   ]
  },
  {
   "cell_type": "markdown",
   "id": "99d14fbf",
   "metadata": {},
   "source": [
    "* Answer: 0.25"
   ]
  },
  {
   "cell_type": "markdown",
   "id": "1b620d6f",
   "metadata": {},
   "source": [
    "Question 3"
   ]
  },
  {
   "cell_type": "code",
   "execution_count": 32,
   "id": "df9b00eb",
   "metadata": {},
   "outputs": [
    {
     "data": {
      "text/plain": [
       "[<matplotlib.lines.Line2D at 0x7fed5be91a90>]"
      ]
     },
     "execution_count": 32,
     "metadata": {},
     "output_type": "execute_result"
    },
    {
     "data": {
      "image/png": "[encoded data removed]",
      "text/plain": [
       "<Figure size 640x480 with 1 Axes>"
      ]
     },
     "metadata": {},
     "output_type": "display_data"
    }
   ],
   "source": [
    "n_estimators_list = list(np.arange(10, 200, 10))\n",
    "rmse_val_list = []\n",
    "for n in n_estimators_list:\n",
    "    rf = RandomForestRegressor(n_estimators=n, random_state=1)\n",
    "    rf.fit(X_train, y_train)\n",
    "    y_val_hat = rf.predict(X_val)\n",
    "    rmse_val = root_mean_squared_error(y_val,y_val_hat)\n",
    "    rmse_val_list.append(rmse_val)"
   ]
  },
  {
   "cell_type": "code",
   "execution_count": 55,
   "id": "12985947",
   "metadata": {},
   "outputs": [
    {
     "data": {
      "text/plain": [
       "[<matplotlib.lines.Line2D at 0x7fed5c52a880>]"
      ]
     },
     "execution_count": 55,
     "metadata": {},
     "output_type": "execute_result"
    },
    {
     "data": {
      "image/png": "[encoded data removed]",
      "text/plain": [
       "<Figure size 640x480 with 1 Axes>"
      ]
     },
     "metadata": {},
     "output_type": "display_data"
    }
   ],
   "source": [
    "plt.plot(n_estimators_list,np.round(rmse_val_list,3))"
   ]
  },
  {
   "cell_type": "markdown",
   "id": "00c1e3b9",
   "metadata": {},
   "source": [
    "* Strictly speaing rmse stops improving after 70"
   ]
  },
  {
   "cell_type": "markdown",
   "id": "7c49c433",
   "metadata": {},
   "source": [
    "Question 4"
   ]
  },
  {
   "cell_type": "code",
   "execution_count": 48,
   "id": "3d4f147e",
   "metadata": {},
   "outputs": [],
   "source": [
    "max_depth = [10, 15, 20, 25]\n",
    "rmse_val_2d_list = []\n",
    "for m in max_depth:\n",
    "    rmse_val_1d_list = []\n",
    "    for n in n_estimators_list:\n",
    "        rf = RandomForestRegressor(max_depth = m,n_estimators=n, random_state=1,n_jobs=-1)\n",
    "        rf.fit(X_train, y_train)\n",
    "        y_val_hat = rf.predict(X_val)\n",
    "        rmse_val = root_mean_squared_error(y_val,y_val_hat)\n",
    "        rmse_val_1d_list.append(rmse_val)\n",
    "    rmse_val_2d_list.append(rmse_val_1d_list)"
   ]
  },
  {
   "cell_type": "code",
   "execution_count": 52,
   "id": "f4ebcb01",
   "metadata": {},
   "outputs": [
    {
     "name": "stdout",
     "output_type": "stream",
     "text": [
      "10 0\n",
      "15 1\n",
      "20 2\n",
      "25 3\n"
     ]
    },
    {
     "data": {
      "text/plain": [
       "<matplotlib.legend.Legend at 0x7fed56e319a0>"
      ]
     },
     "execution_count": 52,
     "metadata": {},
     "output_type": "execute_result"
    },
    {
     "data": {
      "image/png": "[encoded data removed]",
      "text/plain": [
       "<Figure size 640x480 with 1 Axes>"
      ]
     },
     "metadata": {},
     "output_type": "display_data"
    }
   ],
   "source": [
    "for idx,m in enumerate(max_depth):\n",
    "    print(m,idx)\n",
    "    plt.plot(n_estimators_list,rmse_val_2d_list[idx],label=\"depth\"+str(m))\n",
    "plt.legend()"
   ]
  },
  {
   "cell_type": "markdown",
   "id": "09dfccb0",
   "metadata": {},
   "source": [
    "Answer = best depth 25"
   ]
  },
  {
   "cell_type": "markdown",
   "id": "6dd8e8d2",
   "metadata": {},
   "source": [
    "Question 5"
   ]
  },
  {
   "cell_type": "code",
   "execution_count": 53,
   "id": "411feeb2",
   "metadata": {},
   "outputs": [
    {
     "data": {
      "text/html": [
       "<style>#sk-container-id-3 {color: black;background-color: white;}#sk-container-id-3 pre{padding: 0;}#sk-container-id-3 div.sk-toggleable {background-color: white;}#sk-container-id-3 label.sk-toggleable__label {cursor: pointer;display: block;width: 100%;margin-bottom: 0;padding: 0.3em;box-sizing: border-box;text-align: center;}#sk-container-id-3 label.sk-toggleable__label-arrow:before {content: \"▸\";float: left;margin-right: 0.25em;color: #696969;}#sk-container-id-3 label.sk-toggleable__label-arrow:hover:before {color: black;}#sk-container-id-3 div.sk-estimator:hover label.sk-toggleable__label-arrow:before {color: black;}#sk-container-id-3 div.sk-toggleable__content {max-height: 0;max-width: 0;overflow: hidden;text-align: left;background-color: #f0f8ff;}#sk-container-id-3 div.sk-toggleable__content pre {margin: 0.2em;color: black;border-radius: 0.25em;background-color: #f0f8ff;}#sk-container-id-3 input.sk-toggleable__control:checked~div.sk-toggleable__content {max-height: 200px;max-width: 100%;overflow: auto;}#sk-container-id-3 input.sk-toggleable__control:checked~label.sk-toggleable__label-arrow:before {content: \"▾\";}#sk-container-id-3 div.sk-estimator input.sk-toggleable__control:checked~label.sk-toggleable__label {background-color: #d4ebff;}#sk-container-id-3 div.sk-label input.sk-toggleable__control:checked~label.sk-toggleable__label {background-color: #d4ebff;}#sk-container-id-3 input.sk-hidden--visually {border: 0;clip: rect(1px 1px 1px 1px);clip: rect(1px, 1px, 1px, 1px);height: 1px;margin: -1px;overflow: hidden;padding: 0;position: absolute;width: 1px;}#sk-container-id-3 div.sk-estimator {font-family: monospace;background-color: #f0f8ff;border: 1px dotted black;border-radius: 0.25em;box-sizing: border-box;margin-bottom: 0.5em;}#sk-container-id-3 div.sk-estimator:hover {background-color: #d4ebff;}#sk-container-id-3 div.sk-parallel-item::after {content: \"\";width: 100%;border-bottom: 1px solid gray;flex-grow: 1;}#sk-container-id-3 div.sk-label:hover label.sk-toggleable__label {background-color: #d4ebff;}#sk-container-id-3 div.sk-serial::before {content: \"\";position: absolute;border-left: 1px solid gray;box-sizing: border-box;top: 0;bottom: 0;left: 50%;z-index: 0;}#sk-container-id-3 div.sk-serial {display: flex;flex-direction: column;align-items: center;background-color: white;padding-right: 0.2em;padding-left: 0.2em;position: relative;}#sk-container-id-3 div.sk-item {position: relative;z-index: 1;}#sk-container-id-3 div.sk-parallel {display: flex;align-items: stretch;justify-content: center;background-color: white;position: relative;}#sk-container-id-3 div.sk-item::before, #sk-container-id-3 div.sk-parallel-item::before {content: \"\";position: absolute;border-left: 1px solid gray;box-sizing: border-box;top: 0;bottom: 0;left: 50%;z-index: -1;}#sk-container-id-3 div.sk-parallel-item {display: flex;flex-direction: column;z-index: 1;position: relative;background-color: white;}#sk-container-id-3 div.sk-parallel-item:first-child::after {align-self: flex-end;width: 50%;}#sk-container-id-3 div.sk-parallel-item:last-child::after {align-self: flex-start;width: 50%;}#sk-container-id-3 div.sk-parallel-item:only-child::after {width: 0;}#sk-container-id-3 div.sk-dashed-wrapped {border: 1px dashed gray;margin: 0 0.4em 0.5em 0.4em;box-sizing: border-box;padding-bottom: 0.4em;background-color: white;}#sk-container-id-3 div.sk-label label {font-family: monospace;font-weight: bold;display: inline-block;line-height: 1.2em;}#sk-container-id-3 div.sk-label-container {text-align: center;}#sk-container-id-3 div.sk-container {/* jupyter's `normalize.less` sets `[hidden] { display: none; }` but bootstrap.min.css set `[hidden] { display: none !important; }` so we also need the `!important` here to be able to override the default hidden behavior on the sphinx rendered scikit-learn.org. See: https://github.com/scikit-learn/scikit-learn/issues/21755 */display: inline-block !important;position: relative;}#sk-container-id-3 div.sk-text-repr-fallback {display: none;}</style><div id=\"sk-container-id-3\" class=\"sk-top-container\"><div class=\"sk-text-repr-fallback\"><pre>RandomForestRegressor(max_depth=20, n_estimators=10, n_jobs=-1, random_state=1)</pre><b>In a Jupyter environment, please rerun this cell to show the HTML representation or trust the notebook. <br />On GitHub, the HTML representation is unable to render, please try loading this page with nbviewer.org.</b></div><div class=\"sk-container\" hidden><div class=\"sk-item\"><div class=\"sk-estimator sk-toggleable\"><input class=\"sk-toggleable__control sk-hidden--visually\" id=\"sk-estimator-id-3\" type=\"checkbox\" checked><label for=\"sk-estimator-id-3\" class=\"sk-toggleable__label sk-toggleable__label-arrow\">RandomForestRegressor</label><div class=\"sk-toggleable__content\"><pre>RandomForestRegressor(max_depth=20, n_estimators=10, n_jobs=-1, random_state=1)</pre></div></div></div></div></div>"
      ],
      "text/plain": [
       "RandomForestRegressor(max_depth=20, n_estimators=10, n_jobs=-1, random_state=1)"
      ]
     },
     "execution_count": 53,
     "metadata": {},
     "output_type": "execute_result"
    }
   ],
   "source": [
    "rf_q5 = RandomForestRegressor(max_depth = 20,n_estimators=10, random_state=1,n_jobs=-1)\n",
    "rf_q5.fit(X_train, y_train)"
   ]
  },
  {
   "cell_type": "code",
   "execution_count": 54,
   "id": "37f9a7e7",
   "metadata": {},
   "outputs": [
    {
     "data": {
      "text/plain": [
       "array([1.61407558e-02, 3.31967386e-02, 1.01333351e-01, 9.63405488e-02,\n",
       "       3.63224176e-01, 2.76524800e-03, 3.10900842e-01, 3.56806263e-04,\n",
       "       4.52770519e-04, 4.45219202e-03, 3.09988869e-02, 1.93726028e-02,\n",
       "       2.04650818e-02])"
      ]
     },
     "execution_count": 54,
     "metadata": {},
     "output_type": "execute_result"
    }
   ],
   "source": [
    "rf_q5.feature_importances_"
   ]
  },
  {
   "cell_type": "code",
   "execution_count": 60,
   "id": "90278474",
   "metadata": {},
   "outputs": [],
   "source": [
    "df_importances = pd.DataFrame()\n",
    "df_importances['feature'] = dv.get_feature_names_out()\n",
    "df_importances['importance'] = rf_q5.feature_importances_"
   ]
  },
  {
   "cell_type": "code",
   "execution_count": 61,
   "id": "91280492",
   "metadata": {},
   "outputs": [
    {
     "data": {
      "text/html": [
       "<div>\n",
       "<style scoped>\n",
       "    .dataframe tbody tr th:only-of-type {\n",
       "        vertical-align: middle;\n",
       "    }\n",
       "\n",
       "    .dataframe tbody tr th {\n",
       "        vertical-align: top;\n",
       "    }\n",
       "\n",
       "    .dataframe thead th {\n",
       "        text-align: right;\n",
       "    }\n",
       "</style>\n",
       "<table border=\"1\" class=\"dataframe\">\n",
       "  <thead>\n",
       "    <tr style=\"text-align: right;\">\n",
       "      <th></th>\n",
       "      <th>feature</th>\n",
       "      <th>importance</th>\n",
       "    </tr>\n",
       "  </thead>\n",
       "  <tbody>\n",
       "    <tr>\n",
       "      <th>4</th>\n",
       "      <td>median_income</td>\n",
       "      <td>0.363224</td>\n",
       "    </tr>\n",
       "  </tbody>\n",
       "</table>\n",
       "</div>"
      ],
      "text/plain": [
       "         feature  importance\n",
       "4  median_income    0.363224"
      ]
     },
     "execution_count": 61,
     "metadata": {},
     "output_type": "execute_result"
    }
   ],
   "source": [
    "df_importances[df_importances.importance == max(df_importances.importance)]"
   ]
  },
  {
   "cell_type": "markdown",
   "id": "f6a18619",
   "metadata": {},
   "source": [
    "Answer: meadian income"
   ]
  },
  {
   "cell_type": "markdown",
   "id": "b68e5506",
   "metadata": {},
   "source": [
    "Question 6"
   ]
  },
  {
   "cell_type": "code",
   "execution_count": 72,
   "id": "2864cbb7",
   "metadata": {},
   "outputs": [
    {
     "name": "stdout",
     "output_type": "stream",
     "text": [
      "['households', 'housing_median_age', 'latitude', 'longitude', 'median_income', 'ocean_proximityleq1H_OCEAN', 'ocean_proximity=INLAND', 'ocean_proximity=ISLAND', 'ocean_proximity=NEAR_BAY', 'ocean_proximity=NEAR_OCEAN', 'population', 'total_bedrooms', 'total_rooms']\n",
      "['households', 'housing_median_age', 'latitude', 'longitude', 'median_income', 'ocean_proximityleq1H_OCEAN', 'ocean_proximity=INLAND', 'ocean_proximity=ISLAND', 'ocean_proximity=NEAR_BAY', 'ocean_proximity=NEAR_OCEAN', 'population', 'total_bedrooms', 'total_rooms']\n"
     ]
    }
   ],
   "source": [
    "features = dv.get_feature_names()\n",
    "print(features)\n",
    "for idx,feature in enumerate(features):\n",
    "    features[idx] = features[idx].replace('=<','_leq_')\n",
    "print(features)"
   ]
  },
  {
   "cell_type": "code",
   "execution_count": 74,
   "id": "76921430",
   "metadata": {},
   "outputs": [
    {
     "name": "stdout",
     "output_type": "stream",
     "text": [
      "[0]\ttrain-rmse:8.12733\tval-rmse:8.13245\n",
      "[1]\ttrain-rmse:5.69586\tval-rmse:5.70070\n",
      "[2]\ttrain-rmse:3.99540\tval-rmse:4.00041\n",
      "[3]\ttrain-rmse:2.80712\tval-rmse:2.81079\n",
      "[4]\ttrain-rmse:1.97834\tval-rmse:1.98175\n",
      "[5]\ttrain-rmse:1.40218\tval-rmse:1.40741\n",
      "[6]\ttrain-rmse:1.00099\tval-rmse:1.00700\n",
      "[7]\ttrain-rmse:0.72751\tval-rmse:0.73439\n",
      "[8]\ttrain-rmse:0.54190\tval-rmse:0.55047\n",
      "[9]\ttrain-rmse:0.42167\tval-rmse:0.43233\n",
      "[10]\ttrain-rmse:0.34481\tval-rmse:0.35782\n",
      "[11]\ttrain-rmse:0.29835\tval-rmse:0.31360\n",
      "[12]\ttrain-rmse:0.27095\tval-rmse:0.28865\n",
      "[13]\ttrain-rmse:0.25268\tval-rmse:0.27334\n",
      "[14]\ttrain-rmse:0.24295\tval-rmse:0.26605\n",
      "[15]\ttrain-rmse:0.23555\tval-rmse:0.26044\n",
      "[16]\ttrain-rmse:0.22630\tval-rmse:0.25229\n",
      "[17]\ttrain-rmse:0.22233\tval-rmse:0.24902\n",
      "[18]\ttrain-rmse:0.22029\tval-rmse:0.24826\n",
      "[19]\ttrain-rmse:0.21791\tval-rmse:0.24696\n",
      "[20]\ttrain-rmse:0.21580\tval-rmse:0.24624\n",
      "[21]\ttrain-rmse:0.21160\tval-rmse:0.24334\n",
      "[22]\ttrain-rmse:0.20975\tval-rmse:0.24245\n",
      "[23]\ttrain-rmse:0.20904\tval-rmse:0.24269\n",
      "[24]\ttrain-rmse:0.20703\tval-rmse:0.24252\n",
      "[25]\ttrain-rmse:0.20395\tval-rmse:0.24099\n",
      "[26]\ttrain-rmse:0.20188\tval-rmse:0.24019\n",
      "[27]\ttrain-rmse:0.20122\tval-rmse:0.24010\n",
      "[28]\ttrain-rmse:0.19810\tval-rmse:0.23843\n",
      "[29]\ttrain-rmse:0.19540\tval-rmse:0.23766\n",
      "[30]\ttrain-rmse:0.19440\tval-rmse:0.23741\n",
      "[31]\ttrain-rmse:0.19285\tval-rmse:0.23709\n",
      "[32]\ttrain-rmse:0.19126\tval-rmse:0.23686\n",
      "[33]\ttrain-rmse:0.18939\tval-rmse:0.23653\n",
      "[34]\ttrain-rmse:0.18742\tval-rmse:0.23605\n",
      "[35]\ttrain-rmse:0.18637\tval-rmse:0.23562\n",
      "[36]\ttrain-rmse:0.18486\tval-rmse:0.23539\n",
      "[37]\ttrain-rmse:0.18363\tval-rmse:0.23506\n",
      "[38]\ttrain-rmse:0.18274\tval-rmse:0.23495\n",
      "[39]\ttrain-rmse:0.18024\tval-rmse:0.23425\n",
      "[40]\ttrain-rmse:0.17983\tval-rmse:0.23419\n",
      "[41]\ttrain-rmse:0.17878\tval-rmse:0.23400\n",
      "[42]\ttrain-rmse:0.17782\tval-rmse:0.23384\n",
      "[43]\ttrain-rmse:0.17662\tval-rmse:0.23343\n",
      "[44]\ttrain-rmse:0.17568\tval-rmse:0.23317\n",
      "[45]\ttrain-rmse:0.17468\tval-rmse:0.23279\n",
      "[46]\ttrain-rmse:0.17304\tval-rmse:0.23205\n",
      "[47]\ttrain-rmse:0.17244\tval-rmse:0.23171\n",
      "[48]\ttrain-rmse:0.17139\tval-rmse:0.23142\n",
      "[49]\ttrain-rmse:0.17011\tval-rmse:0.23124\n",
      "[50]\ttrain-rmse:0.16934\tval-rmse:0.23097\n",
      "[51]\ttrain-rmse:0.16838\tval-rmse:0.23106\n",
      "[52]\ttrain-rmse:0.16788\tval-rmse:0.23074\n",
      "[53]\ttrain-rmse:0.16712\tval-rmse:0.23072\n",
      "[54]\ttrain-rmse:0.16616\tval-rmse:0.23030\n",
      "[55]\ttrain-rmse:0.16546\tval-rmse:0.23039\n",
      "[56]\ttrain-rmse:0.16433\tval-rmse:0.23006\n",
      "[57]\ttrain-rmse:0.16357\tval-rmse:0.23002\n",
      "[58]\ttrain-rmse:0.16309\tval-rmse:0.22987\n",
      "[59]\ttrain-rmse:0.16269\tval-rmse:0.22980\n",
      "[60]\ttrain-rmse:0.16177\tval-rmse:0.22950\n",
      "[61]\ttrain-rmse:0.16158\tval-rmse:0.22952\n",
      "[62]\ttrain-rmse:0.16081\tval-rmse:0.22929\n",
      "[63]\ttrain-rmse:0.15998\tval-rmse:0.22882\n",
      "[64]\ttrain-rmse:0.15854\tval-rmse:0.22878\n",
      "[65]\ttrain-rmse:0.15762\tval-rmse:0.22857\n",
      "[66]\ttrain-rmse:0.15666\tval-rmse:0.22862\n",
      "[67]\ttrain-rmse:0.15518\tval-rmse:0.22827\n",
      "[68]\ttrain-rmse:0.15446\tval-rmse:0.22825\n",
      "[69]\ttrain-rmse:0.15349\tval-rmse:0.22788\n",
      "[70]\ttrain-rmse:0.15323\tval-rmse:0.22787\n",
      "[71]\ttrain-rmse:0.15233\tval-rmse:0.22774\n",
      "[72]\ttrain-rmse:0.15212\tval-rmse:0.22773\n",
      "[73]\ttrain-rmse:0.15129\tval-rmse:0.22782\n",
      "[74]\ttrain-rmse:0.15075\tval-rmse:0.22771\n",
      "[75]\ttrain-rmse:0.15010\tval-rmse:0.22755\n",
      "[76]\ttrain-rmse:0.14872\tval-rmse:0.22705\n",
      "[77]\ttrain-rmse:0.14798\tval-rmse:0.22675\n",
      "[78]\ttrain-rmse:0.14728\tval-rmse:0.22669\n",
      "[79]\ttrain-rmse:0.14632\tval-rmse:0.22634\n",
      "[80]\ttrain-rmse:0.14564\tval-rmse:0.22611\n",
      "[81]\ttrain-rmse:0.14461\tval-rmse:0.22602\n",
      "[82]\ttrain-rmse:0.14386\tval-rmse:0.22595\n",
      "[83]\ttrain-rmse:0.14298\tval-rmse:0.22589\n",
      "[84]\ttrain-rmse:0.14244\tval-rmse:0.22598\n",
      "[85]\ttrain-rmse:0.14166\tval-rmse:0.22579\n",
      "[86]\ttrain-rmse:0.14128\tval-rmse:0.22582\n",
      "[87]\ttrain-rmse:0.14040\tval-rmse:0.22647\n",
      "[88]\ttrain-rmse:0.13997\tval-rmse:0.22641\n",
      "[89]\ttrain-rmse:0.13952\tval-rmse:0.22647\n",
      "[90]\ttrain-rmse:0.13892\tval-rmse:0.22628\n",
      "[91]\ttrain-rmse:0.13847\tval-rmse:0.22610\n",
      "[92]\ttrain-rmse:0.13794\tval-rmse:0.22619\n",
      "[93]\ttrain-rmse:0.13696\tval-rmse:0.22648\n",
      "[94]\ttrain-rmse:0.13626\tval-rmse:0.22643\n",
      "[95]\ttrain-rmse:0.13553\tval-rmse:0.22630\n",
      "[96]\ttrain-rmse:0.13458\tval-rmse:0.22620\n",
      "[97]\ttrain-rmse:0.13372\tval-rmse:0.22608\n",
      "[98]\ttrain-rmse:0.13344\tval-rmse:0.22611\n",
      "[99]\ttrain-rmse:0.13299\tval-rmse:0.22610\n"
     ]
    }
   ],
   "source": [
    "dtrain = xgb.DMatrix(X_train, label=y_train, feature_names=features)\n",
    "dval = xgb.DMatrix(X_val, label=y_val, feature_names=features)\n",
    "watchlist = [(dtrain, 'train'), (dval, 'val')]\n",
    "xgb_params = {\n",
    "    'eta': 0.3, \n",
    "    'max_depth': 6,\n",
    "    'min_child_weight': 1,\n",
    "    \n",
    "    'objective': 'reg:squarederror',\n",
    "    'nthread': 8,\n",
    "    \n",
    "    'seed': 1,\n",
    "    'verbosity': 1,\n",
    "}\n",
    "model = xgb.train(xgb_params, dtrain, num_boost_round=100,evals=watchlist)"
   ]
  },
  {
   "cell_type": "code",
   "execution_count": 75,
   "id": "4be61873",
   "metadata": {},
   "outputs": [
    {
     "name": "stdout",
     "output_type": "stream",
     "text": [
      "[0]\ttrain-rmse:10.44372\tval-rmse:10.44938\n",
      "[1]\ttrain-rmse:9.40118\tval-rmse:9.40684\n",
      "[2]\ttrain-rmse:8.46290\tval-rmse:8.46831\n",
      "[3]\ttrain-rmse:7.61859\tval-rmse:7.62391\n",
      "[4]\ttrain-rmse:6.85878\tval-rmse:6.86368\n",
      "[5]\ttrain-rmse:6.17513\tval-rmse:6.17987\n",
      "[6]\ttrain-rmse:5.55994\tval-rmse:5.56437\n",
      "[7]\ttrain-rmse:5.00643\tval-rmse:5.01061\n",
      "[8]\ttrain-rmse:4.50846\tval-rmse:4.51264\n",
      "[9]\ttrain-rmse:4.06043\tval-rmse:4.06461\n",
      "[10]\ttrain-rmse:3.65741\tval-rmse:3.66135\n",
      "[11]\ttrain-rmse:3.29492\tval-rmse:3.29877\n",
      "[12]\ttrain-rmse:2.96894\tval-rmse:2.97284\n",
      "[13]\ttrain-rmse:2.67573\tval-rmse:2.67979\n",
      "[14]\ttrain-rmse:2.41195\tval-rmse:2.41587\n",
      "[15]\ttrain-rmse:2.17500\tval-rmse:2.17928\n",
      "[16]\ttrain-rmse:1.96214\tval-rmse:1.96662\n",
      "[17]\ttrain-rmse:1.77065\tval-rmse:1.77536\n",
      "[18]\ttrain-rmse:1.59880\tval-rmse:1.60396\n",
      "[19]\ttrain-rmse:1.44376\tval-rmse:1.44910\n",
      "[20]\ttrain-rmse:1.30499\tval-rmse:1.31054\n",
      "[21]\ttrain-rmse:1.18080\tval-rmse:1.18646\n",
      "[22]\ttrain-rmse:1.06879\tval-rmse:1.07469\n",
      "[23]\ttrain-rmse:0.96912\tval-rmse:0.97546\n",
      "[24]\ttrain-rmse:0.87914\tval-rmse:0.88576\n",
      "[25]\ttrain-rmse:0.79933\tval-rmse:0.80657\n",
      "[26]\ttrain-rmse:0.72790\tval-rmse:0.73566\n",
      "[27]\ttrain-rmse:0.66451\tval-rmse:0.67282\n",
      "[28]\ttrain-rmse:0.60723\tval-rmse:0.61618\n",
      "[29]\ttrain-rmse:0.55636\tval-rmse:0.56601\n",
      "[30]\ttrain-rmse:0.51144\tval-rmse:0.52189\n",
      "[31]\ttrain-rmse:0.47189\tval-rmse:0.48338\n",
      "[32]\ttrain-rmse:0.43732\tval-rmse:0.44960\n",
      "[33]\ttrain-rmse:0.40669\tval-rmse:0.41992\n",
      "[34]\ttrain-rmse:0.38017\tval-rmse:0.39439\n",
      "[35]\ttrain-rmse:0.35700\tval-rmse:0.37264\n",
      "[36]\ttrain-rmse:0.33733\tval-rmse:0.35398\n",
      "[37]\ttrain-rmse:0.31985\tval-rmse:0.33778\n",
      "[38]\ttrain-rmse:0.30449\tval-rmse:0.32340\n",
      "[39]\ttrain-rmse:0.29115\tval-rmse:0.31104\n",
      "[40]\ttrain-rmse:0.27984\tval-rmse:0.30053\n",
      "[41]\ttrain-rmse:0.27067\tval-rmse:0.29195\n",
      "[42]\ttrain-rmse:0.26257\tval-rmse:0.28468\n",
      "[43]\ttrain-rmse:0.25532\tval-rmse:0.27832\n",
      "[44]\ttrain-rmse:0.24897\tval-rmse:0.27269\n",
      "[45]\ttrain-rmse:0.24350\tval-rmse:0.26829\n",
      "[46]\ttrain-rmse:0.23912\tval-rmse:0.26437\n",
      "[47]\ttrain-rmse:0.23532\tval-rmse:0.26091\n",
      "[48]\ttrain-rmse:0.23170\tval-rmse:0.25803\n",
      "[49]\ttrain-rmse:0.22852\tval-rmse:0.25521\n",
      "[50]\ttrain-rmse:0.22614\tval-rmse:0.25334\n",
      "[51]\ttrain-rmse:0.22366\tval-rmse:0.25115\n",
      "[52]\ttrain-rmse:0.22167\tval-rmse:0.24976\n",
      "[53]\ttrain-rmse:0.22027\tval-rmse:0.24876\n",
      "[54]\ttrain-rmse:0.21843\tval-rmse:0.24751\n",
      "[55]\ttrain-rmse:0.21695\tval-rmse:0.24657\n",
      "[56]\ttrain-rmse:0.21568\tval-rmse:0.24560\n",
      "[57]\ttrain-rmse:0.21454\tval-rmse:0.24480\n",
      "[58]\ttrain-rmse:0.21336\tval-rmse:0.24411\n",
      "[59]\ttrain-rmse:0.21237\tval-rmse:0.24341\n",
      "[60]\ttrain-rmse:0.21035\tval-rmse:0.24189\n",
      "[61]\ttrain-rmse:0.20927\tval-rmse:0.24115\n",
      "[62]\ttrain-rmse:0.20870\tval-rmse:0.24089\n",
      "[63]\ttrain-rmse:0.20760\tval-rmse:0.24046\n",
      "[64]\ttrain-rmse:0.20723\tval-rmse:0.24036\n",
      "[65]\ttrain-rmse:0.20579\tval-rmse:0.23943\n",
      "[66]\ttrain-rmse:0.20510\tval-rmse:0.23908\n",
      "[67]\ttrain-rmse:0.20389\tval-rmse:0.23836\n",
      "[68]\ttrain-rmse:0.20302\tval-rmse:0.23798\n",
      "[69]\ttrain-rmse:0.20189\tval-rmse:0.23725\n",
      "[70]\ttrain-rmse:0.20116\tval-rmse:0.23684\n",
      "[71]\ttrain-rmse:0.20053\tval-rmse:0.23649\n",
      "[72]\ttrain-rmse:0.19928\tval-rmse:0.23587\n",
      "[73]\ttrain-rmse:0.19856\tval-rmse:0.23550\n",
      "[74]\ttrain-rmse:0.19760\tval-rmse:0.23523\n",
      "[75]\ttrain-rmse:0.19680\tval-rmse:0.23507\n",
      "[76]\ttrain-rmse:0.19636\tval-rmse:0.23491\n",
      "[77]\ttrain-rmse:0.19561\tval-rmse:0.23446\n",
      "[78]\ttrain-rmse:0.19482\tval-rmse:0.23427\n",
      "[79]\ttrain-rmse:0.19438\tval-rmse:0.23423\n",
      "[80]\ttrain-rmse:0.19384\tval-rmse:0.23398\n",
      "[81]\ttrain-rmse:0.19334\tval-rmse:0.23392\n",
      "[82]\ttrain-rmse:0.19266\tval-rmse:0.23364\n",
      "[83]\ttrain-rmse:0.19212\tval-rmse:0.23330\n",
      "[84]\ttrain-rmse:0.19129\tval-rmse:0.23289\n",
      "[85]\ttrain-rmse:0.19085\tval-rmse:0.23275\n",
      "[86]\ttrain-rmse:0.19008\tval-rmse:0.23266\n",
      "[87]\ttrain-rmse:0.18941\tval-rmse:0.23230\n",
      "[88]\ttrain-rmse:0.18903\tval-rmse:0.23228\n",
      "[89]\ttrain-rmse:0.18855\tval-rmse:0.23220\n",
      "[90]\ttrain-rmse:0.18794\tval-rmse:0.23206\n",
      "[91]\ttrain-rmse:0.18728\tval-rmse:0.23167\n",
      "[92]\ttrain-rmse:0.18691\tval-rmse:0.23162\n",
      "[93]\ttrain-rmse:0.18620\tval-rmse:0.23117\n",
      "[94]\ttrain-rmse:0.18586\tval-rmse:0.23104\n",
      "[95]\ttrain-rmse:0.18541\tval-rmse:0.23106\n",
      "[96]\ttrain-rmse:0.18470\tval-rmse:0.23089\n",
      "[97]\ttrain-rmse:0.18405\tval-rmse:0.23067\n",
      "[98]\ttrain-rmse:0.18385\tval-rmse:0.23057\n",
      "[99]\ttrain-rmse:0.18329\tval-rmse:0.23054\n"
     ]
    }
   ],
   "source": [
    "# now eta = 0.1\n",
    "dtrain = xgb.DMatrix(X_train, label=y_train, feature_names=features)\n",
    "dval = xgb.DMatrix(X_val, label=y_val, feature_names=features)\n",
    "watchlist = [(dtrain, 'train'), (dval, 'val')]\n",
    "xgb_params = {\n",
    "    'eta': 0.1, \n",
    "    'max_depth': 6,\n",
    "    'min_child_weight': 1,\n",
    "    \n",
    "    'objective': 'reg:squarederror',\n",
    "    'nthread': 8,\n",
    "    \n",
    "    'seed': 1,\n",
    "    'verbosity': 1,\n",
    "}\n",
    "model = xgb.train(xgb_params, dtrain, num_boost_round=100,evals=watchlist)"
   ]
  },
  {
   "cell_type": "code",
   "execution_count": null,
   "id": "b09d2f74",
   "metadata": {},
   "outputs": [],
   "source": [
    "* eta =0.3 leads to better rmse"
   ]
  }
 ],
 "metadata": {
  "kernelspec": {
   "display_name": "Python 3 (ipykernel)",
   "language": "python",
   "name": "python3"
  },
  "language_info": {
   "codemirror_mode": {
    "name": "ipython",
    "version": 3
   },
   "file_extension": ".py",
   "mimetype": "text/x-python",
   "name": "python",
   "nbconvert_exporter": "python",
   "pygments_lexer": "ipython3",
   "version": "3.9.13"
  }
 },
 "nbformat": 4,
 "nbformat_minor": 5
}
