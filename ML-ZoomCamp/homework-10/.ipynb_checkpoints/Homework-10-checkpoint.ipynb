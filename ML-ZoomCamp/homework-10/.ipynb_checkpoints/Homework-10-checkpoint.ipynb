{
 "cells": [
  {
   "cell_type": "markdown",
   "id": "7cb2e748",
   "metadata": {},
   "source": [
    "# Here the answers and code used to obtain answers for homework 10"
   ]
  },
  {
   "cell_type": "code",
   "execution_count": null,
   "id": "f1d6222f",
   "metadata": {},
   "outputs": [],
   "source": [
    "!git clone https://github.com/alexeygrigorev/mlbookcamp-code.git\n",
    "!cd mlbookcamp-code/course-zoomcamp/cohorts/2022/05-deployment/homework/\n",
    "!docker build -t zoomcamp-model:v001 .\n",
    "!docker run -it --rm -p 9696:9696 zoomcamp-model:v001\n",
    "!python q6_test.py"
   ]
  },
  {
   "cell_type": "markdown",
   "id": "e7120c62",
   "metadata": {},
   "source": [
    "## Question 1"
   ]
  },
  {
   "cell_type": "code",
   "execution_count": null,
   "id": "c6ea6735",
   "metadata": {},
   "outputs": [],
   "source": [
    "#(base) Arthur@MacBook-Pro-2 homework % python q6_test.py\n",
    "#{'get_card': True, 'get_card_probability': 0.7692649226628628}\n",
    "#\n",
    "#Answer:\n",
    "#0.769"
   ]
  },
  {
   "cell_type": "markdown",
   "id": "e6b4b0e2",
   "metadata": {},
   "source": [
    "* Installing kubectl and kind"
   ]
  },
  {
   "cell_type": "markdown",
   "id": "03ff550c",
   "metadata": {},
   "source": [
    "## Question 2"
   ]
  },
  {
   "cell_type": "code",
   "execution_count": null,
   "id": "c6e15ba8",
   "metadata": {},
   "outputs": [],
   "source": [
    "#(ml-zoomcamp) Arthur@MacBook-Pro-2 homework % kind --version\n",
    "#kind version 0.17.0"
   ]
  },
  {
   "cell_type": "markdown",
   "id": "a60bbc3f",
   "metadata": {},
   "source": [
    "## Question 3"
   ]
  },
  {
   "cell_type": "markdown",
   "id": "de2646ac",
   "metadata": {},
   "source": [
    "* Pods are the smallest deployable units of computing that can be created and managed in Kubernetes.\n",
    "https://www.google.com/url?sa=t&rct=j&q=&esrc=s&source=web&cd=&cad=rja&uact=8&ved=2ahUKEwjvlPLGuuD7AhWRXaQEHUd9D6AQFnoECBIQAw&url=https%3A%2F%2Fwww.capitalone.com%2Ftech%2Fsoftware-engineering%2Fcreate-and-deploy-kubernetes-clusters%2F&usg=AOvVaw1Ncgr_c8PJkTYDsgYeKY31"
   ]
  },
  {
   "cell_type": "markdown",
   "id": "161d4c30",
   "metadata": {},
   "source": [
    "## Question 4"
   ]
  },
  {
   "cell_type": "code",
   "execution_count": null,
   "id": "9a2896ed",
   "metadata": {},
   "outputs": [],
   "source": [
    "#(ml-zoomcamp) Arthur@MacBook-Pro-2 homework-10 % kubectl get services  \n",
    "#NAME         TYPE        CLUSTER-IP   EXTERNAL-IP   PORT(S)   AGE\n",
    "#kubernetes   ClusterIP   10.96.0.1    <none>        443/TCP   13m"
   ]
  },
  {
   "cell_type": "markdown",
   "id": "f3fc9517",
   "metadata": {},
   "source": [
    "ClusterIP is running"
   ]
  },
  {
   "cell_type": "markdown",
   "id": "846b3c54",
   "metadata": {},
   "source": [
    "## Question 5"
   ]
  },
  {
   "cell_type": "code",
   "execution_count": null,
   "id": "e6210f87",
   "metadata": {},
   "outputs": [],
   "source": [
    "#(ml-zoomcamp) Arthur@MacBook-Pro-2 homework-10 % kind load docker-image zoomcamp-model:v001              \n",
    "#Image: \"\" with ID \"sha256:fc8d27cab04620533bede5b99bbae62f36a2693b8efd742d80df0632b1793806\" not yet present on #node \"kind-control-plane\", loading..."
   ]
  },
  {
   "cell_type": "markdown",
   "id": "a3b49584",
   "metadata": {},
   "source": [
    "## Question 6"
   ]
  },
  {
   "cell_type": "markdown",
   "id": "cb3a75b5",
   "metadata": {},
   "source": [
    "*  The value of the port is the same that we run service on docker image\n",
    "\n",
    "9696"
   ]
  },
  {
   "cell_type": "markdown",
   "id": "ede92cb7",
   "metadata": {},
   "source": [
    "## Question 7"
   ]
  },
  {
   "cell_type": "code",
   "execution_count": null,
   "id": "88da142d",
   "metadata": {},
   "outputs": [],
   "source": [
    "#* we need to write instead of <???>?\n",
    "#<credit-card> -- as per deployment.yaml"
   ]
  },
  {
   "cell_type": "code",
   "execution_count": null,
   "id": "c048986b",
   "metadata": {},
   "outputs": [],
   "source": []
  }
 ],
 "metadata": {
  "kernelspec": {
   "display_name": "Python 3 (ipykernel)",
   "language": "python",
   "name": "python3"
  },
  "language_info": {
   "codemirror_mode": {
    "name": "ipython",
    "version": 3
   },
   "file_extension": ".py",
   "mimetype": "text/x-python",
   "name": "python",
   "nbconvert_exporter": "python",
   "pygments_lexer": "ipython3",
   "version": "3.7.13"
  }
 },
 "nbformat": 4,
 "nbformat_minor": 5
}
