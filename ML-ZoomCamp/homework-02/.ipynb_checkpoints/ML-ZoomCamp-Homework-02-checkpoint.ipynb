{
 "cells": [
  {
   "cell_type": "markdown",
   "id": "7f5b410c",
   "metadata": {},
   "source": [
    "This is homework of second week."
   ]
  },
  {
   "cell_type": "code",
   "execution_count": null,
   "id": "ac5d0dba",
   "metadata": {},
   "outputs": [],
   "source": [
    "import numpy as np\n",
    "import pandas as pd\n",
    "import matplotlib.pyplot as plt\n"
   ]
  },
  {
   "cell_type": "markdown",
   "id": "4f6f157e",
   "metadata": {},
   "source": [
    "\n",
    "\n",
    "Let's start with loading the dataframe"
   ]
  },
  {
   "cell_type": "code",
   "execution_count": null,
   "id": "5eb0b8dc",
   "metadata": {},
   "outputs": [],
   "source": [
    "df = "
   ]
  }
 ],
 "metadata": {
  "kernelspec": {
   "display_name": "Python 3 (ipykernel)",
   "language": "python",
   "name": "python3"
  },
  "language_info": {
   "codemirror_mode": {
    "name": "ipython",
    "version": 3
   },
   "file_extension": ".py",
   "mimetype": "text/x-python",
   "name": "python",
   "nbconvert_exporter": "python",
   "pygments_lexer": "ipython3",
   "version": "3.9.13"
  }
 },
 "nbformat": 4,
 "nbformat_minor": 5
}
