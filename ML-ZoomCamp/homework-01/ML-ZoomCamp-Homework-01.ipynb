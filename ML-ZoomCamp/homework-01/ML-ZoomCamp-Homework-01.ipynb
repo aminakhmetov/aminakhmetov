{
 "cells": [
  {
   "cell_type": "markdown",
   "id": "fa626e17",
   "metadata": {},
   "source": [
    "0) Imports and Python Version"
   ]
  },
  {
   "cell_type": "code",
   "execution_count": 1,
   "id": "21e0fae5",
   "metadata": {},
   "outputs": [
    {
     "name": "stdout",
     "output_type": "stream",
     "text": [
      "3.9.13\n"
     ]
    }
   ],
   "source": [
    "from platform import python_version\n",
    "print(python_version())"
   ]
  },
  {
   "cell_type": "code",
   "execution_count": 2,
   "id": "06fdf2e4",
   "metadata": {},
   "outputs": [],
   "source": [
    "import numpy as np\n",
    "import pandas as pd\n",
    "import matplotlib.pyplot as plt"
   ]
  },
  {
   "cell_type": "markdown",
   "id": "ddf7b5a5",
   "metadata": {},
   "source": [
    "1) Question 1"
   ]
  },
  {
   "cell_type": "code",
   "execution_count": 3,
   "id": "ee195b9c",
   "metadata": {},
   "outputs": [
    {
     "name": "stdout",
     "output_type": "stream",
     "text": [
      "Numpy Version: 1.21.5\n"
     ]
    }
   ],
   "source": [
    "print('Numpy Version: '+str(np.__version__))"
   ]
  },
  {
   "cell_type": "markdown",
   "id": "f1ab5cc2",
   "metadata": {},
   "source": [
    "2) Question 2"
   ]
  },
  {
   "cell_type": "code",
   "execution_count": 4,
   "id": "b618ef3f",
   "metadata": {},
   "outputs": [],
   "source": [
    "df = pd.read_csv('data.csv')"
   ]
  },
  {
   "cell_type": "code",
   "execution_count": 5,
   "id": "467e8e0f",
   "metadata": {},
   "outputs": [
    {
     "name": "stdout",
     "output_type": "stream",
     "text": [
      "Number of records in dataframe: 11914\n"
     ]
    }
   ],
   "source": [
    "print('Number of records in dataframe: '+str(df.shape[0]))"
   ]
  },
  {
   "cell_type": "markdown",
   "id": "ebdd8b64",
   "metadata": {},
   "source": [
    "3) Question 3"
   ]
  },
  {
   "cell_type": "code",
   "execution_count": 6,
   "id": "e545d29b",
   "metadata": {},
   "outputs": [
    {
     "name": "stdout",
     "output_type": "stream",
     "text": [
      "Three most popular brands:\n"
     ]
    },
    {
     "data": {
      "text/plain": [
       "Chevrolet     1123\n",
       "Ford           881\n",
       "Volkswagen     809\n",
       "Name: Make, dtype: int64"
      ]
     },
     "execution_count": 6,
     "metadata": {},
     "output_type": "execute_result"
    }
   ],
   "source": [
    "print('Three most popular brands:')\n",
    "df.Make.value_counts()[0:3]"
   ]
  },
  {
   "cell_type": "markdown",
   "id": "f5cea336",
   "metadata": {},
   "source": [
    "4) Question 4"
   ]
  },
  {
   "cell_type": "code",
   "execution_count": 7,
   "id": "c525f6c4",
   "metadata": {},
   "outputs": [
    {
     "name": "stdout",
     "output_type": "stream",
     "text": [
      "Unique Audi models:\n"
     ]
    },
    {
     "data": {
      "text/plain": [
       "34"
      ]
     },
     "execution_count": 7,
     "metadata": {},
     "output_type": "execute_result"
    }
   ],
   "source": [
    "print('Unique Audi models:')\n",
    "df[df.Make=='Audi'].Model.nunique()"
   ]
  },
  {
   "cell_type": "markdown",
   "id": "46afefde",
   "metadata": {},
   "source": [
    "5) Question 5"
   ]
  },
  {
   "cell_type": "markdown",
   "id": "3ff3c821",
   "metadata": {},
   "source": [
    "5.1) Get the count of null elements in each columns "
   ]
  },
  {
   "cell_type": "code",
   "execution_count": 8,
   "id": "485d41bd",
   "metadata": {},
   "outputs": [],
   "source": [
    "intermediate = df.isnull().sum()"
   ]
  },
  {
   "cell_type": "markdown",
   "id": "0c55a6df",
   "metadata": {},
   "source": [
    "5.2) Get the count of columns that has above zero counts = number of columns with null values"
   ]
  },
  {
   "cell_type": "code",
   "execution_count": 9,
   "id": "321d0f8b",
   "metadata": {},
   "outputs": [
    {
     "name": "stdout",
     "output_type": "stream",
     "text": [
      "Number of columns with null values:\n"
     ]
    },
    {
     "data": {
      "text/plain": [
       "5"
      ]
     },
     "execution_count": 9,
     "metadata": {},
     "output_type": "execute_result"
    }
   ],
   "source": [
    "print('Number of columns with null values:')\n",
    "intermediate[intermediate>0].count()"
   ]
  },
  {
   "cell_type": "markdown",
   "id": "6c980b85",
   "metadata": {},
   "source": [
    "6) Question 6"
   ]
  },
  {
   "cell_type": "markdown",
   "id": "f0dd3b36",
   "metadata": {},
   "source": [
    "6.1) At first lets do some visual analysis by plotting original CDF"
   ]
  },
  {
   "cell_type": "code",
   "execution_count": 10,
   "id": "88059c76",
   "metadata": {},
   "outputs": [
    {
     "data": {
      "text/plain": [
       "(array([0.00471222, 0.00471222, 0.00471222, 0.00471222, 0.00471222,\n",
       "        0.00471222, 0.00471222, 0.00471222, 0.00471222, 0.00471222,\n",
       "        0.00471222, 0.00471222, 0.00471222, 0.00471222, 0.00471222,\n",
       "        0.00471222, 0.00471222, 0.00471222, 0.00723662, 0.00723662,\n",
       "        0.00723662, 0.00723662, 0.00723662, 0.00723662, 0.00723662,\n",
       "        0.40710199, 0.40710199, 0.40710199, 0.40710199, 0.40710199,\n",
       "        0.40710199, 0.42603501, 0.42603501, 0.42603501, 0.42603501,\n",
       "        0.42603501, 0.42603501, 0.80376977, 0.80376977, 0.80376977,\n",
       "        0.80376977, 0.80376977, 0.80376977, 0.80376977, 0.80376977,\n",
       "        0.80376977, 0.80376977, 0.80376977, 0.80376977, 0.80376977,\n",
       "        0.97467183, 0.97467183, 0.97467183, 0.97467183, 0.97467183,\n",
       "        0.97467183, 0.97467183, 0.97467183, 0.97467183, 0.97467183,\n",
       "        0.97467183, 0.97467183, 0.98039381, 0.98039381, 0.98039381,\n",
       "        0.98039381, 0.98039381, 0.98039381, 0.98039381, 0.98039381,\n",
       "        0.98039381, 0.98039381, 0.98039381, 0.98039381, 0.98039381,\n",
       "        0.99974756, 0.99974756, 0.99974756, 0.99974756, 0.99974756,\n",
       "        0.99974756, 0.99974756, 0.99974756, 0.99974756, 0.99974756,\n",
       "        0.99974756, 0.99974756, 0.99974756, 0.99974756, 0.99974756,\n",
       "        0.99974756, 0.99974756, 0.99974756, 0.99974756, 0.99974756,\n",
       "        0.99974756, 0.99974756, 0.99974756, 0.99974756, 1.        ]),\n",
       " array([ 0.  ,  0.16,  0.32,  0.48,  0.64,  0.8 ,  0.96,  1.12,  1.28,\n",
       "         1.44,  1.6 ,  1.76,  1.92,  2.08,  2.24,  2.4 ,  2.56,  2.72,\n",
       "         2.88,  3.04,  3.2 ,  3.36,  3.52,  3.68,  3.84,  4.  ,  4.16,\n",
       "         4.32,  4.48,  4.64,  4.8 ,  4.96,  5.12,  5.28,  5.44,  5.6 ,\n",
       "         5.76,  5.92,  6.08,  6.24,  6.4 ,  6.56,  6.72,  6.88,  7.04,\n",
       "         7.2 ,  7.36,  7.52,  7.68,  7.84,  8.  ,  8.16,  8.32,  8.48,\n",
       "         8.64,  8.8 ,  8.96,  9.12,  9.28,  9.44,  9.6 ,  9.76,  9.92,\n",
       "        10.08, 10.24, 10.4 , 10.56, 10.72, 10.88, 11.04, 11.2 , 11.36,\n",
       "        11.52, 11.68, 11.84, 12.  , 12.16, 12.32, 12.48, 12.64, 12.8 ,\n",
       "        12.96, 13.12, 13.28, 13.44, 13.6 , 13.76, 13.92, 14.08, 14.24,\n",
       "        14.4 , 14.56, 14.72, 14.88, 15.04, 15.2 , 15.36, 15.52, 15.68,\n",
       "        15.84, 16.  ]),\n",
       " <BarContainer object of 100 artists>)"
      ]
     },
     "execution_count": 10,
     "metadata": {},
     "output_type": "execute_result"
    },
    {
     "data": {
      "image/png": "[encoded data removed]",
      "text/plain": [
       "<Figure size 640x480 with 1 Axes>"
      ]
     },
     "metadata": {},
     "output_type": "display_data"
    }
   ],
   "source": [
    "plt.hist(df['Engine Cylinders'],cumulative=True, density=1, bins=100)"
   ]
  },
  {
   "cell_type": "markdown",
   "id": "3dad60d4",
   "metadata": {},
   "source": [
    "6.2) Then lets plot the CDF of the case if we change all null elements with some value (almost nothing changes)"
   ]
  },
  {
   "cell_type": "code",
   "execution_count": 11,
   "id": "400693cc",
   "metadata": {},
   "outputs": [
    {
     "data": {
      "text/plain": [
       "(array([0.00470035, 0.00470035, 0.00470035, 0.00470035, 0.00470035,\n",
       "        0.00470035, 0.00470035, 0.00470035, 0.00470035, 0.00470035,\n",
       "        0.00470035, 0.00470035, 0.00470035, 0.00470035, 0.00470035,\n",
       "        0.00470035, 0.00470035, 0.00470035, 0.0072184 , 0.0072184 ,\n",
       "        0.0072184 , 0.0072184 , 0.0072184 , 0.0072184 , 0.0072184 ,\n",
       "        0.40859493, 0.40859493, 0.40859493, 0.40859493, 0.40859493,\n",
       "        0.40859493, 0.42748028, 0.42748028, 0.42748028, 0.42748028,\n",
       "        0.42748028, 0.42748028, 0.80426389, 0.80426389, 0.80426389,\n",
       "        0.80426389, 0.80426389, 0.80426389, 0.80426389, 0.80426389,\n",
       "        0.80426389, 0.80426389, 0.80426389, 0.80426389, 0.80426389,\n",
       "        0.97473561, 0.97473561, 0.97473561, 0.97473561, 0.97473561,\n",
       "        0.97473561, 0.97473561, 0.97473561, 0.97473561, 0.97473561,\n",
       "        0.97473561, 0.97473561, 0.98044318, 0.98044318, 0.98044318,\n",
       "        0.98044318, 0.98044318, 0.98044318, 0.98044318, 0.98044318,\n",
       "        0.98044318, 0.98044318, 0.98044318, 0.98044318, 0.98044318,\n",
       "        0.9997482 , 0.9997482 , 0.9997482 , 0.9997482 , 0.9997482 ,\n",
       "        0.9997482 , 0.9997482 , 0.9997482 , 0.9997482 , 0.9997482 ,\n",
       "        0.9997482 , 0.9997482 , 0.9997482 , 0.9997482 , 0.9997482 ,\n",
       "        0.9997482 , 0.9997482 , 0.9997482 , 0.9997482 , 0.9997482 ,\n",
       "        0.9997482 , 0.9997482 , 0.9997482 , 0.9997482 , 1.        ]),\n",
       " array([ 0.  ,  0.16,  0.32,  0.48,  0.64,  0.8 ,  0.96,  1.12,  1.28,\n",
       "         1.44,  1.6 ,  1.76,  1.92,  2.08,  2.24,  2.4 ,  2.56,  2.72,\n",
       "         2.88,  3.04,  3.2 ,  3.36,  3.52,  3.68,  3.84,  4.  ,  4.16,\n",
       "         4.32,  4.48,  4.64,  4.8 ,  4.96,  5.12,  5.28,  5.44,  5.6 ,\n",
       "         5.76,  5.92,  6.08,  6.24,  6.4 ,  6.56,  6.72,  6.88,  7.04,\n",
       "         7.2 ,  7.36,  7.52,  7.68,  7.84,  8.  ,  8.16,  8.32,  8.48,\n",
       "         8.64,  8.8 ,  8.96,  9.12,  9.28,  9.44,  9.6 ,  9.76,  9.92,\n",
       "        10.08, 10.24, 10.4 , 10.56, 10.72, 10.88, 11.04, 11.2 , 11.36,\n",
       "        11.52, 11.68, 11.84, 12.  , 12.16, 12.32, 12.48, 12.64, 12.8 ,\n",
       "        12.96, 13.12, 13.28, 13.44, 13.6 , 13.76, 13.92, 14.08, 14.24,\n",
       "        14.4 , 14.56, 14.72, 14.88, 15.04, 15.2 , 15.36, 15.52, 15.68,\n",
       "        15.84, 16.  ]),\n",
       " <BarContainer object of 100 artists>)"
      ]
     },
     "execution_count": 11,
     "metadata": {},
     "output_type": "execute_result"
    },
    {
     "data": {
      "image/png": "[encoded data removed]",
      "text/plain": [
       "<Figure size 640x480 with 1 Axes>"
      ]
     },
     "metadata": {},
     "output_type": "display_data"
    }
   ],
   "source": [
    "plt.hist(df['Engine Cylinders'].fillna(4.0),cumulative=True, density=1, bins=100)"
   ]
  },
  {
   "cell_type": "markdown",
   "id": "ca965f94",
   "metadata": {},
   "source": [
    "6.3) Get median"
   ]
  },
  {
   "cell_type": "code",
   "execution_count": 12,
   "id": "93d1b820",
   "metadata": {},
   "outputs": [
    {
     "name": "stdout",
     "output_type": "stream",
     "text": [
      "Median value: 6.0\n"
     ]
    }
   ],
   "source": [
    "print('Median value: '+str(df['Engine Cylinders'].median()))"
   ]
  },
  {
   "cell_type": "markdown",
   "id": "1ad15405",
   "metadata": {},
   "source": [
    "6.4) Get most frequent element"
   ]
  },
  {
   "cell_type": "code",
   "execution_count": 14,
   "id": "72806f4f",
   "metadata": {},
   "outputs": [
    {
     "name": "stdout",
     "output_type": "stream",
     "text": [
      "Most frequent value: 4.0\n"
     ]
    }
   ],
   "source": [
    "mode = df['Engine Cylinders'].mode().values[0]\n",
    "print('Most frequent value: '+str(mode))"
   ]
  },
  {
   "cell_type": "code",
   "execution_count": null,
   "id": "68fe2660",
   "metadata": {},
   "outputs": [],
   "source": [
    "6.5) Lets analysie deeper the frequency of occurence"
   ]
  },
  {
   "cell_type": "code",
   "execution_count": 15,
   "id": "de2bc842",
   "metadata": {},
   "outputs": [
    {
     "data": {
      "text/plain": [
       "4.0     4752\n",
       "6.0     4489\n",
       "8.0     2031\n",
       "12.0     230\n",
       "5.0      225\n",
       "10.0      68\n",
       "0.0       56\n",
       "3.0       30\n",
       "16.0       3\n",
       "Name: Engine Cylinders, dtype: int64"
      ]
     },
     "execution_count": 15,
     "metadata": {},
     "output_type": "execute_result"
    }
   ],
   "source": [
    "df['Engine Cylinders'].value_counts()"
   ]
  },
  {
   "cell_type": "code",
   "execution_count": 16,
   "id": "33cc0d3f",
   "metadata": {},
   "outputs": [
    {
     "data": {
      "text/plain": [
       "count    11884.000000\n",
       "mean         5.628829\n",
       "std          1.780559\n",
       "min          0.000000\n",
       "25%          4.000000\n",
       "50%          6.000000\n",
       "75%          6.000000\n",
       "max         16.000000\n",
       "Name: Engine Cylinders, dtype: float64"
      ]
     },
     "execution_count": 16,
     "metadata": {},
     "output_type": "execute_result"
    }
   ],
   "source": [
    "df['Engine Cylinders'].describe()"
   ]
  },
  {
   "cell_type": "markdown",
   "id": "61f3653d",
   "metadata": {},
   "source": [
    "6.6) Not lets change fill null elements with mode:"
   ]
  },
  {
   "cell_type": "code",
   "execution_count": 17,
   "id": "0226e9fe",
   "metadata": {},
   "outputs": [],
   "source": [
    "df['Engine Cylinders'] = df['Engine Cylinders'].fillna(mode)"
   ]
  },
  {
   "cell_type": "markdown",
   "id": "279a3536",
   "metadata": {},
   "source": [
    "6.7) And describe again what happened"
   ]
  },
  {
   "cell_type": "code",
   "execution_count": 18,
   "id": "afc7db04",
   "metadata": {},
   "outputs": [
    {
     "name": "stdout",
     "output_type": "stream",
     "text": [
      "Most frequent value: 4.0\n"
     ]
    }
   ],
   "source": [
    "mode_2 = df['Engine Cylinders'].mode().values[0]\n",
    "print('Most frequent value: '+str(mode_2))"
   ]
  },
  {
   "cell_type": "code",
   "execution_count": 19,
   "id": "0fca307a",
   "metadata": {},
   "outputs": [
    {
     "name": "stdout",
     "output_type": "stream",
     "text": [
      "Median value: 6.0\n"
     ]
    }
   ],
   "source": [
    "print('Median value: '+str(df['Engine Cylinders'].median()))"
   ]
  },
  {
   "cell_type": "code",
   "execution_count": 20,
   "id": "2c554d25",
   "metadata": {},
   "outputs": [
    {
     "data": {
      "text/plain": [
       "count    11914.000000\n",
       "mean         5.624727\n",
       "std          1.780189\n",
       "min          0.000000\n",
       "25%          4.000000\n",
       "50%          6.000000\n",
       "75%          6.000000\n",
       "max         16.000000\n",
       "Name: Engine Cylinders, dtype: float64"
      ]
     },
     "execution_count": 20,
     "metadata": {},
     "output_type": "execute_result"
    }
   ],
   "source": [
    "df['Engine Cylinders'].describe()"
   ]
  },
  {
   "cell_type": "markdown",
   "id": "140b0c62",
   "metadata": {},
   "source": [
    "We see that almost nothing changed, except by small amount count, mean and std"
   ]
  },
  {
   "cell_type": "code",
   "execution_count": null,
   "id": "5f20918f",
   "metadata": {},
   "outputs": [],
   "source": [
    "7) Question 7"
   ]
  },
  {
   "cell_type": "code",
   "execution_count": 21,
   "id": "54ead6d7",
   "metadata": {},
   "outputs": [],
   "source": [
    "df_to_work_with = df[df['Make']=='Lotus'][['Engine HP','Engine Cylinders']].drop_duplicates()"
   ]
  },
  {
   "cell_type": "code",
   "execution_count": 22,
   "id": "6c90466c",
   "metadata": {},
   "outputs": [],
   "source": [
    "X = df_to_work_with.to_numpy()"
   ]
  },
  {
   "cell_type": "code",
   "execution_count": 23,
   "id": "c8d479cb",
   "metadata": {},
   "outputs": [],
   "source": [
    "XTX = X.T @ X"
   ]
  },
  {
   "cell_type": "code",
   "execution_count": 24,
   "id": "5ceb9ca2",
   "metadata": {},
   "outputs": [
    {
     "data": {
      "text/plain": [
       "array([[ 5.53084235e-05, -2.94319825e-03],\n",
       "       [-2.94319825e-03,  1.60588447e-01]])"
      ]
     },
     "execution_count": 24,
     "metadata": {},
     "output_type": "execute_result"
    }
   ],
   "source": [
    "XTX_inv = np.linalg.inv(XTX)\n",
    "XTX_inv"
   ]
  },
  {
   "cell_type": "code",
   "execution_count": 25,
   "id": "7ffe87d5",
   "metadata": {},
   "outputs": [],
   "source": [
    "y = np.array([1100, 800, 750, 850, 1300, 1000, 1000, 1300, 800])"
   ]
  },
  {
   "cell_type": "markdown",
   "id": "49f0decf",
   "metadata": {},
   "source": [
    "7.1) Calculation of weights of linear regression"
   ]
  },
  {
   "cell_type": "code",
   "execution_count": 26,
   "id": "26ffc053",
   "metadata": {
    "scrolled": true
   },
   "outputs": [
    {
     "data": {
      "text/plain": [
       "array([  4.59494481, -63.56432501])"
      ]
     },
     "execution_count": 26,
     "metadata": {},
     "output_type": "execute_result"
    }
   ],
   "source": [
    "w = (XTX_inv @ X.T) @ y\n",
    "w"
   ]
  },
  {
   "cell_type": "code",
   "execution_count": 27,
   "id": "d41253aa",
   "metadata": {},
   "outputs": [
    {
     "data": {
      "text/plain": [
       "array([ 614.18726905,  747.44066855,  742.84572374, 1099.71608343,\n",
       "       1456.59197396,  886.81881751, 1203.8700094 ,  926.64351614,\n",
       "        848.52945437])"
      ]
     },
     "execution_count": 27,
     "metadata": {},
     "output_type": "execute_result"
    }
   ],
   "source": [
    "y_test = w @ X.T\n",
    "y_test"
   ]
  },
  {
   "cell_type": "markdown",
   "id": "cd0c018c",
   "metadata": {},
   "source": [
    "7.2) Lets test linear regression"
   ]
  },
  {
   "cell_type": "code",
   "execution_count": 29,
   "id": "1ba44f88",
   "metadata": {},
   "outputs": [
    {
     "data": {
      "text/plain": [
       "[<matplotlib.lines.Line2D at 0x7f890c7177f0>]"
      ]
     },
     "execution_count": 29,
     "metadata": {},
     "output_type": "execute_result"
    },
    {
     "data": {
      "image/png": "[encoded data removed]",
      "text/plain": [
       "<Figure size 640x480 with 1 Axes>"
      ]
     },
     "metadata": {},
     "output_type": "display_data"
    }
   ],
   "source": [
    "plt.plot(y, label = 'True Data')\n",
    "plt.plot(y_test,label = 'Predicted Data')"
   ]
  },
  {
   "cell_type": "code",
   "execution_count": null,
   "id": "24671f72",
   "metadata": {},
   "outputs": [],
   "source": []
  }
 ],
 "metadata": {
  "kernelspec": {
   "display_name": "Python 3 (ipykernel)",
   "language": "python",
   "name": "python3"
  },
  "language_info": {
   "codemirror_mode": {
    "name": "ipython",
    "version": 3
   },
   "file_extension": ".py",
   "mimetype": "text/x-python",
   "name": "python",
   "nbconvert_exporter": "python",
   "pygments_lexer": "ipython3",
   "version": "3.9.13"
  }
 },
 "nbformat": 4,
 "nbformat_minor": 5
}
