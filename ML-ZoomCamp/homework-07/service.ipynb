{
 "cells": [
  {
   "cell_type": "code",
   "execution_count": 6,
   "id": "9cb998e8",
   "metadata": {},
   "outputs": [],
   "source": [
    "import bentoml\n",
    "from bentoml.io import JSON\n",
    "from pydantic import BaseModel\n",
    "\n",
    "class CreditApplication(BaseModel):\n",
    "    seniority: int\n",
    "    home: str\n",
    "    time: int\n",
    "    age: int\n",
    "    marital: str\n",
    "    records: str\n",
    "    job: str\n",
    "    expenses: int\n",
    "    income: float\n",
    "    assets: float\n",
    "    debt: float\n",
    "    amount: int\n",
    "    price: int\n",
    "\n",
    "\n",
    "model_ref = bentoml.xgboost.get(\"credit_risk_model:latest\")\n",
    "dv = model_ref.custom_objects['dictVectorizer']\n",
    "\n",
    "model_runner = model_ref.to_runner()\n",
    "\n",
    "svc = bentoml.Service(\"credit_risk_classifier\", runners = [model_runner])\n",
    "\n",
    "@svc.api(input=JSON(pydantic_model=CreditApplication),output=JSON())\n",
    "\n",
    "def classify(credit_application):\n",
    "    application_data = credit_application.dict()\n",
    "    vector = dv.transform(application_data)\n",
    "    prediction = model_runner.predict.run(vector)\n",
    "    print(prediction)\n",
    "    \n",
    "    result = prediction[0]\n",
    "    \n",
    "    if result > 0.5:\n",
    "        return {\"status\":\"DECLINED\"}\n",
    "    elif result > 0.23:\n",
    "        return {\"status\":\"MAYBE\"}\n",
    "    else:\n",
    "        return {\"status\":\"APPROVED\"}"
   ]
  },
  {
   "cell_type": "code",
   "execution_count": null,
   "id": "d8e57d2f",
   "metadata": {},
   "outputs": [],
   "source": []
  }
 ],
 "metadata": {
  "kernelspec": {
   "display_name": "Python 3 (ipykernel)",
   "language": "python",
   "name": "python3"
  },
  "language_info": {
   "codemirror_mode": {
    "name": "ipython",
    "version": 3
   },
   "file_extension": ".py",
   "mimetype": "text/x-python",
   "name": "python",
   "nbconvert_exporter": "python",
   "pygments_lexer": "ipython3",
   "version": "3.9.13"
  }
 },
 "nbformat": 4,
 "nbformat_minor": 5
}
